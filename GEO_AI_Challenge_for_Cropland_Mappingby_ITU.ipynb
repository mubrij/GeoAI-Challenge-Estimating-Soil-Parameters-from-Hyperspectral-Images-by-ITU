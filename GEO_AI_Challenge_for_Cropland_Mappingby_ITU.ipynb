{
  "cells": [
    {
      "cell_type": "code",
      "execution_count": null,
      "metadata": {
        "colab": {
          "base_uri": "https://localhost:8080/"
        },
        "id": "FN4iKO17XQQW",
        "outputId": "4225b824-a8e5-4b9a-f0ea-7c65b32ba457"
      },
      "outputs": [
        {
          "output_type": "stream",
          "name": "stdout",
          "text": [
            "Requirement already satisfied: lightgbm in /usr/local/lib/python3.10/dist-packages (4.0.0)\n",
            "Requirement already satisfied: numpy in /usr/local/lib/python3.10/dist-packages (from lightgbm) (1.23.5)\n",
            "Requirement already satisfied: scipy in /usr/local/lib/python3.10/dist-packages (from lightgbm) (1.11.2)\n"
          ]
        }
      ],
      "source": [
        "pip install lightgbm"
      ]
    },
    {
      "cell_type": "code",
      "execution_count": null,
      "metadata": {
        "colab": {
          "base_uri": "https://localhost:8080/"
        },
        "id": "oP1tfe6aXZsE",
        "outputId": "494deb44-fd60-4d50-cbd5-3e9fcb99587c"
      },
      "outputs": [
        {
          "output_type": "stream",
          "name": "stdout",
          "text": [
            "Requirement already satisfied: imblearn in /usr/local/lib/python3.10/dist-packages (0.0)\n",
            "Requirement already satisfied: imbalanced-learn in /usr/local/lib/python3.10/dist-packages (from imblearn) (0.10.1)\n",
            "Requirement already satisfied: numpy>=1.17.3 in /usr/local/lib/python3.10/dist-packages (from imbalanced-learn->imblearn) (1.23.5)\n",
            "Requirement already satisfied: scipy>=1.3.2 in /usr/local/lib/python3.10/dist-packages (from imbalanced-learn->imblearn) (1.11.2)\n",
            "Requirement already satisfied: scikit-learn>=1.0.2 in /usr/local/lib/python3.10/dist-packages (from imbalanced-learn->imblearn) (1.2.2)\n",
            "Requirement already satisfied: joblib>=1.1.1 in /usr/local/lib/python3.10/dist-packages (from imbalanced-learn->imblearn) (1.3.2)\n",
            "Requirement already satisfied: threadpoolctl>=2.0.0 in /usr/local/lib/python3.10/dist-packages (from imbalanced-learn->imblearn) (3.2.0)\n"
          ]
        }
      ],
      "source": [
        "pip install imblearn"
      ]
    },
    {
      "cell_type": "code",
      "execution_count": null,
      "metadata": {
        "colab": {
          "base_uri": "https://localhost:8080/"
        },
        "id": "JaRcEY_zXfAN",
        "outputId": "3cf3afb9-99ba-42b6-b8cb-97b4525bb9eb"
      },
      "outputs": [
        {
          "output_type": "stream",
          "name": "stdout",
          "text": [
            "Requirement already satisfied: catboost in /usr/local/lib/python3.10/dist-packages (1.2.2)\n",
            "Requirement already satisfied: graphviz in /usr/local/lib/python3.10/dist-packages (from catboost) (0.20.1)\n",
            "Requirement already satisfied: matplotlib in /usr/local/lib/python3.10/dist-packages (from catboost) (3.7.1)\n",
            "Requirement already satisfied: numpy>=1.16.0 in /usr/local/lib/python3.10/dist-packages (from catboost) (1.23.5)\n",
            "Requirement already satisfied: pandas>=0.24 in /usr/local/lib/python3.10/dist-packages (from catboost) (1.5.3)\n",
            "Requirement already satisfied: scipy in /usr/local/lib/python3.10/dist-packages (from catboost) (1.11.2)\n",
            "Requirement already satisfied: plotly in /usr/local/lib/python3.10/dist-packages (from catboost) (5.15.0)\n",
            "Requirement already satisfied: six in /usr/local/lib/python3.10/dist-packages (from catboost) (1.16.0)\n",
            "Requirement already satisfied: python-dateutil>=2.8.1 in /usr/local/lib/python3.10/dist-packages (from pandas>=0.24->catboost) (2.8.2)\n",
            "Requirement already satisfied: pytz>=2020.1 in /usr/local/lib/python3.10/dist-packages (from pandas>=0.24->catboost) (2023.3.post1)\n",
            "Requirement already satisfied: contourpy>=1.0.1 in /usr/local/lib/python3.10/dist-packages (from matplotlib->catboost) (1.1.0)\n",
            "Requirement already satisfied: cycler>=0.10 in /usr/local/lib/python3.10/dist-packages (from matplotlib->catboost) (0.11.0)\n",
            "Requirement already satisfied: fonttools>=4.22.0 in /usr/local/lib/python3.10/dist-packages (from matplotlib->catboost) (4.42.1)\n",
            "Requirement already satisfied: kiwisolver>=1.0.1 in /usr/local/lib/python3.10/dist-packages (from matplotlib->catboost) (1.4.5)\n",
            "Requirement already satisfied: packaging>=20.0 in /usr/local/lib/python3.10/dist-packages (from matplotlib->catboost) (23.1)\n",
            "Requirement already satisfied: pillow>=6.2.0 in /usr/local/lib/python3.10/dist-packages (from matplotlib->catboost) (9.4.0)\n",
            "Requirement already satisfied: pyparsing>=2.3.1 in /usr/local/lib/python3.10/dist-packages (from matplotlib->catboost) (3.1.1)\n",
            "Requirement already satisfied: tenacity>=6.2.0 in /usr/local/lib/python3.10/dist-packages (from plotly->catboost) (8.2.3)\n"
          ]
        }
      ],
      "source": [
        "pip install catboost"
      ]
    },
    {
      "cell_type": "code",
      "execution_count": null,
      "metadata": {
        "colab": {
          "base_uri": "https://localhost:8080/"
        },
        "id": "PzLeYgl7Xjxx",
        "outputId": "bce79463-a9d4-4ea1-a9f1-cbec9fad313b"
      },
      "outputs": [
        {
          "output_type": "stream",
          "name": "stdout",
          "text": [
            "Requirement already satisfied: optuna in /usr/local/lib/python3.10/dist-packages (3.3.0)\n",
            "Requirement already satisfied: alembic>=1.5.0 in /usr/local/lib/python3.10/dist-packages (from optuna) (1.12.0)\n",
            "Requirement already satisfied: cmaes>=0.10.0 in /usr/local/lib/python3.10/dist-packages (from optuna) (0.10.0)\n",
            "Requirement already satisfied: colorlog in /usr/local/lib/python3.10/dist-packages (from optuna) (6.7.0)\n",
            "Requirement already satisfied: numpy in /usr/local/lib/python3.10/dist-packages (from optuna) (1.23.5)\n",
            "Requirement already satisfied: packaging>=20.0 in /usr/local/lib/python3.10/dist-packages (from optuna) (23.1)\n",
            "Requirement already satisfied: sqlalchemy>=1.3.0 in /usr/local/lib/python3.10/dist-packages (from optuna) (2.0.20)\n",
            "Requirement already satisfied: tqdm in /usr/local/lib/python3.10/dist-packages (from optuna) (4.66.1)\n",
            "Requirement already satisfied: PyYAML in /usr/local/lib/python3.10/dist-packages (from optuna) (6.0.1)\n",
            "Requirement already satisfied: Mako in /usr/local/lib/python3.10/dist-packages (from alembic>=1.5.0->optuna) (1.2.4)\n",
            "Requirement already satisfied: typing-extensions>=4 in /usr/local/lib/python3.10/dist-packages (from alembic>=1.5.0->optuna) (4.5.0)\n",
            "Requirement already satisfied: greenlet!=0.4.17 in /usr/local/lib/python3.10/dist-packages (from sqlalchemy>=1.3.0->optuna) (2.0.2)\n",
            "Requirement already satisfied: MarkupSafe>=0.9.2 in /usr/local/lib/python3.10/dist-packages (from Mako->alembic>=1.5.0->optuna) (2.1.3)\n"
          ]
        }
      ],
      "source": [
        "pip install optuna"
      ]
    },
    {
      "cell_type": "code",
      "execution_count": null,
      "metadata": {
        "id": "VYf9F7g7XsQW"
      },
      "outputs": [],
      "source": [
        "import numpy as np\n",
        "import matplotlib.pyplot as plt\n",
        "import pandas as pd\n",
        "import seaborn as sns\n",
        "import re\n",
        "import lightgbm as lgb\n",
        "import optuna\n",
        "from sklearn.preprocessing import LabelEncoder, StandardScaler,MinMaxScaler\n",
        "from sklearn.model_selection import train_test_split\n",
        "from imblearn.over_sampling import RandomOverSampler, SMOTE, ADASYN\n",
        "from sklearn.preprocessing import PolynomialFeatures\n",
        "from imblearn.under_sampling import RandomUnderSampler\n",
        "from sklearn.metrics import roc_auc_score\n",
        "\n",
        "from xgboost.callback import EarlyStopping\n",
        "from sklearn.ensemble import RandomForestClassifier, HistGradientBoostingClassifier, GradientBoostingClassifier\n",
        "from sklearn.model_selection import StratifiedKFold, KFold\n",
        "from catboost import CatBoostClassifier\n",
        "from sklearn.metrics import accuracy_score\n",
        "from sklearn.linear_model import LogisticRegressionCV, LogisticRegression\n",
        "import xgboost as xgb\n",
        "from itertools import combinations\n",
        "from copy import deepcopy\n",
        "from functools import partial\n",
        "from optuna.integration import OptunaSearchCV\n",
        "from optuna.samplers import RandomSampler\n",
        "\n",
        "from sklearn.tree import DecisionTreeClassifier\n",
        "from sklearn.ensemble import AdaBoostClassifier\n",
        "from sklearn.ensemble import VotingClassifier\n",
        "from sklearn.svm import SVC\n",
        "from sklearn.neighbors import KNeighborsClassifier\n",
        "from sklearn.compose import make_column_transformer\n",
        "from sklearn.pipeline import make_pipeline\n",
        "from sklearn.preprocessing import FunctionTransformer\n",
        "from sklearn.compose import make_column_selector\n",
        "from geopy.distance import geodesic\n",
        "from sklearn.cluster import KMeans"
      ]
    },
    {
      "cell_type": "code",
      "execution_count": null,
      "metadata": {
        "id": "vdWXD1PnX3Fj"
      },
      "outputs": [],
      "source": [
        "train = pd.read_csv(\"/content/Train (25).csv\")\n",
        "test = pd.read_csv(\"/content/Test (24).csv\")"
      ]
    },
    {
      "cell_type": "code",
      "source": [
        "y = train['Target']\n",
        "train = train.drop(\"Target\",1)"
      ],
      "metadata": {
        "colab": {
          "base_uri": "https://localhost:8080/"
        },
        "id": "ymh6JfCKj5lv",
        "outputId": "2fe4667f-57d2-4187-c82b-153ec82332da"
      },
      "execution_count": null,
      "outputs": [
        {
          "output_type": "stream",
          "name": "stderr",
          "text": [
            "<ipython-input-8-3d62a69b02f8>:2: FutureWarning: In a future version of pandas all arguments of DataFrame.drop except for the argument 'labels' will be keyword-only.\n",
            "  train = train.drop(\"Target\",1)\n"
          ]
        }
      ]
    },
    {
      "cell_type": "code",
      "source": [
        "train = pd.get_dummies(train[\"ID\"])\n",
        "test = pd.get_dummies(test[\"ID\"])"
      ],
      "metadata": {
        "id": "YcS0rHiNi2Ji"
      },
      "execution_count": null,
      "outputs": []
    },
    {
      "cell_type": "code",
      "execution_count": null,
      "metadata": {
        "colab": {
          "base_uri": "https://localhost:8080/",
          "height": 256
        },
        "id": "FR32UMv6YPde",
        "outputId": "4aa51551-0684-4727-c180-170b2865b6ad"
      },
      "outputs": [
        {
          "output_type": "execute_result",
          "data": {
            "text/plain": [
              "   ID_000001  ID_000002  ID_000003  ID_000004  ID_000005  ID_000006  \\\n",
              "0          1          0          0          0          0          0   \n",
              "1          0          1          0          0          0          0   \n",
              "2          0          0          1          0          0          0   \n",
              "3          0          0          0          1          0          0   \n",
              "4          0          0          0          0          1          0   \n",
              "\n",
              "   ID_000007  ID_000008  ID_000009  ID_000010  ...  ID_039991  ID_039992  \\\n",
              "0          0          0          0          0  ...          0          0   \n",
              "1          0          0          0          0  ...          0          0   \n",
              "2          0          0          0          0  ...          0          0   \n",
              "3          0          0          0          0  ...          0          0   \n",
              "4          0          0          0          0  ...          0          0   \n",
              "\n",
              "   ID_039993  ID_039994  ID_039995  ID_039996  ID_039997  ID_039998  \\\n",
              "0          0          0          0          0          0          0   \n",
              "1          0          0          0          0          0          0   \n",
              "2          0          0          0          0          0          0   \n",
              "3          0          0          0          0          0          0   \n",
              "4          0          0          0          0          0          0   \n",
              "\n",
              "   ID_039999  ID_040000  \n",
              "0          0          0  \n",
              "1          0          0  \n",
              "2          0          0  \n",
              "3          0          0  \n",
              "4          0          0  \n",
              "\n",
              "[5 rows x 40000 columns]"
            ],
            "text/html": [
              "\n",
              "  <div id=\"df-97141c78-5a72-4eca-a8db-0d40e6771391\" class=\"colab-df-container\">\n",
              "    <div>\n",
              "<style scoped>\n",
              "    .dataframe tbody tr th:only-of-type {\n",
              "        vertical-align: middle;\n",
              "    }\n",
              "\n",
              "    .dataframe tbody tr th {\n",
              "        vertical-align: top;\n",
              "    }\n",
              "\n",
              "    .dataframe thead th {\n",
              "        text-align: right;\n",
              "    }\n",
              "</style>\n",
              "<table border=\"1\" class=\"dataframe\">\n",
              "  <thead>\n",
              "    <tr style=\"text-align: right;\">\n",
              "      <th></th>\n",
              "      <th>ID_000001</th>\n",
              "      <th>ID_000002</th>\n",
              "      <th>ID_000003</th>\n",
              "      <th>ID_000004</th>\n",
              "      <th>ID_000005</th>\n",
              "      <th>ID_000006</th>\n",
              "      <th>ID_000007</th>\n",
              "      <th>ID_000008</th>\n",
              "      <th>ID_000009</th>\n",
              "      <th>ID_000010</th>\n",
              "      <th>...</th>\n",
              "      <th>ID_039991</th>\n",
              "      <th>ID_039992</th>\n",
              "      <th>ID_039993</th>\n",
              "      <th>ID_039994</th>\n",
              "      <th>ID_039995</th>\n",
              "      <th>ID_039996</th>\n",
              "      <th>ID_039997</th>\n",
              "      <th>ID_039998</th>\n",
              "      <th>ID_039999</th>\n",
              "      <th>ID_040000</th>\n",
              "    </tr>\n",
              "  </thead>\n",
              "  <tbody>\n",
              "    <tr>\n",
              "      <th>0</th>\n",
              "      <td>1</td>\n",
              "      <td>0</td>\n",
              "      <td>0</td>\n",
              "      <td>0</td>\n",
              "      <td>0</td>\n",
              "      <td>0</td>\n",
              "      <td>0</td>\n",
              "      <td>0</td>\n",
              "      <td>0</td>\n",
              "      <td>0</td>\n",
              "      <td>...</td>\n",
              "      <td>0</td>\n",
              "      <td>0</td>\n",
              "      <td>0</td>\n",
              "      <td>0</td>\n",
              "      <td>0</td>\n",
              "      <td>0</td>\n",
              "      <td>0</td>\n",
              "      <td>0</td>\n",
              "      <td>0</td>\n",
              "      <td>0</td>\n",
              "    </tr>\n",
              "    <tr>\n",
              "      <th>1</th>\n",
              "      <td>0</td>\n",
              "      <td>1</td>\n",
              "      <td>0</td>\n",
              "      <td>0</td>\n",
              "      <td>0</td>\n",
              "      <td>0</td>\n",
              "      <td>0</td>\n",
              "      <td>0</td>\n",
              "      <td>0</td>\n",
              "      <td>0</td>\n",
              "      <td>...</td>\n",
              "      <td>0</td>\n",
              "      <td>0</td>\n",
              "      <td>0</td>\n",
              "      <td>0</td>\n",
              "      <td>0</td>\n",
              "      <td>0</td>\n",
              "      <td>0</td>\n",
              "      <td>0</td>\n",
              "      <td>0</td>\n",
              "      <td>0</td>\n",
              "    </tr>\n",
              "    <tr>\n",
              "      <th>2</th>\n",
              "      <td>0</td>\n",
              "      <td>0</td>\n",
              "      <td>1</td>\n",
              "      <td>0</td>\n",
              "      <td>0</td>\n",
              "      <td>0</td>\n",
              "      <td>0</td>\n",
              "      <td>0</td>\n",
              "      <td>0</td>\n",
              "      <td>0</td>\n",
              "      <td>...</td>\n",
              "      <td>0</td>\n",
              "      <td>0</td>\n",
              "      <td>0</td>\n",
              "      <td>0</td>\n",
              "      <td>0</td>\n",
              "      <td>0</td>\n",
              "      <td>0</td>\n",
              "      <td>0</td>\n",
              "      <td>0</td>\n",
              "      <td>0</td>\n",
              "    </tr>\n",
              "    <tr>\n",
              "      <th>3</th>\n",
              "      <td>0</td>\n",
              "      <td>0</td>\n",
              "      <td>0</td>\n",
              "      <td>1</td>\n",
              "      <td>0</td>\n",
              "      <td>0</td>\n",
              "      <td>0</td>\n",
              "      <td>0</td>\n",
              "      <td>0</td>\n",
              "      <td>0</td>\n",
              "      <td>...</td>\n",
              "      <td>0</td>\n",
              "      <td>0</td>\n",
              "      <td>0</td>\n",
              "      <td>0</td>\n",
              "      <td>0</td>\n",
              "      <td>0</td>\n",
              "      <td>0</td>\n",
              "      <td>0</td>\n",
              "      <td>0</td>\n",
              "      <td>0</td>\n",
              "    </tr>\n",
              "    <tr>\n",
              "      <th>4</th>\n",
              "      <td>0</td>\n",
              "      <td>0</td>\n",
              "      <td>0</td>\n",
              "      <td>0</td>\n",
              "      <td>1</td>\n",
              "      <td>0</td>\n",
              "      <td>0</td>\n",
              "      <td>0</td>\n",
              "      <td>0</td>\n",
              "      <td>0</td>\n",
              "      <td>...</td>\n",
              "      <td>0</td>\n",
              "      <td>0</td>\n",
              "      <td>0</td>\n",
              "      <td>0</td>\n",
              "      <td>0</td>\n",
              "      <td>0</td>\n",
              "      <td>0</td>\n",
              "      <td>0</td>\n",
              "      <td>0</td>\n",
              "      <td>0</td>\n",
              "    </tr>\n",
              "  </tbody>\n",
              "</table>\n",
              "<p>5 rows × 40000 columns</p>\n",
              "</div>\n",
              "    <div class=\"colab-df-buttons\">\n",
              "\n",
              "  <div class=\"colab-df-container\">\n",
              "    <button class=\"colab-df-convert\" onclick=\"convertToInteractive('df-97141c78-5a72-4eca-a8db-0d40e6771391')\"\n",
              "            title=\"Convert this dataframe to an interactive table.\"\n",
              "            style=\"display:none;\">\n",
              "\n",
              "  <svg xmlns=\"http://www.w3.org/2000/svg\" height=\"24px\" viewBox=\"0 -960 960 960\">\n",
              "    <path d=\"M120-120v-720h720v720H120Zm60-500h600v-160H180v160Zm220 220h160v-160H400v160Zm0 220h160v-160H400v160ZM180-400h160v-160H180v160Zm440 0h160v-160H620v160ZM180-180h160v-160H180v160Zm440 0h160v-160H620v160Z\"/>\n",
              "  </svg>\n",
              "    </button>\n",
              "\n",
              "  <style>\n",
              "    .colab-df-container {\n",
              "      display:flex;\n",
              "      gap: 12px;\n",
              "    }\n",
              "\n",
              "    .colab-df-convert {\n",
              "      background-color: #E8F0FE;\n",
              "      border: none;\n",
              "      border-radius: 50%;\n",
              "      cursor: pointer;\n",
              "      display: none;\n",
              "      fill: #1967D2;\n",
              "      height: 32px;\n",
              "      padding: 0 0 0 0;\n",
              "      width: 32px;\n",
              "    }\n",
              "\n",
              "    .colab-df-convert:hover {\n",
              "      background-color: #E2EBFA;\n",
              "      box-shadow: 0px 1px 2px rgba(60, 64, 67, 0.3), 0px 1px 3px 1px rgba(60, 64, 67, 0.15);\n",
              "      fill: #174EA6;\n",
              "    }\n",
              "\n",
              "    .colab-df-buttons div {\n",
              "      margin-bottom: 4px;\n",
              "    }\n",
              "\n",
              "    [theme=dark] .colab-df-convert {\n",
              "      background-color: #3B4455;\n",
              "      fill: #D2E3FC;\n",
              "    }\n",
              "\n",
              "    [theme=dark] .colab-df-convert:hover {\n",
              "      background-color: #434B5C;\n",
              "      box-shadow: 0px 1px 3px 1px rgba(0, 0, 0, 0.15);\n",
              "      filter: drop-shadow(0px 1px 2px rgba(0, 0, 0, 0.3));\n",
              "      fill: #FFFFFF;\n",
              "    }\n",
              "  </style>\n",
              "\n",
              "    <script>\n",
              "      const buttonEl =\n",
              "        document.querySelector('#df-97141c78-5a72-4eca-a8db-0d40e6771391 button.colab-df-convert');\n",
              "      buttonEl.style.display =\n",
              "        google.colab.kernel.accessAllowed ? 'block' : 'none';\n",
              "\n",
              "      async function convertToInteractive(key) {\n",
              "        const element = document.querySelector('#df-97141c78-5a72-4eca-a8db-0d40e6771391');\n",
              "        const dataTable =\n",
              "          await google.colab.kernel.invokeFunction('convertToInteractive',\n",
              "                                                    [key], {});\n",
              "        if (!dataTable) return;\n",
              "\n",
              "        const docLinkHtml = 'Like what you see? Visit the ' +\n",
              "          '<a target=\"_blank\" href=https://colab.research.google.com/notebooks/data_table.ipynb>data table notebook</a>'\n",
              "          + ' to learn more about interactive tables.';\n",
              "        element.innerHTML = '';\n",
              "        dataTable['output_type'] = 'display_data';\n",
              "        await google.colab.output.renderOutput(dataTable, element);\n",
              "        const docLink = document.createElement('div');\n",
              "        docLink.innerHTML = docLinkHtml;\n",
              "        element.appendChild(docLink);\n",
              "      }\n",
              "    </script>\n",
              "  </div>\n",
              "\n",
              "\n",
              "<div id=\"df-1d5a8dcf-4e94-454d-ab66-bed50497ce8d\">\n",
              "  <button class=\"colab-df-quickchart\" onclick=\"quickchart('df-1d5a8dcf-4e94-454d-ab66-bed50497ce8d')\"\n",
              "            title=\"Suggest charts.\"\n",
              "            style=\"display:none;\">\n",
              "\n",
              "<svg xmlns=\"http://www.w3.org/2000/svg\" height=\"24px\"viewBox=\"0 0 24 24\"\n",
              "     width=\"24px\">\n",
              "    <g>\n",
              "        <path d=\"M19 3H5c-1.1 0-2 .9-2 2v14c0 1.1.9 2 2 2h14c1.1 0 2-.9 2-2V5c0-1.1-.9-2-2-2zM9 17H7v-7h2v7zm4 0h-2V7h2v10zm4 0h-2v-4h2v4z\"/>\n",
              "    </g>\n",
              "</svg>\n",
              "  </button>\n",
              "\n",
              "<style>\n",
              "  .colab-df-quickchart {\n",
              "      --bg-color: #E8F0FE;\n",
              "      --fill-color: #1967D2;\n",
              "      --hover-bg-color: #E2EBFA;\n",
              "      --hover-fill-color: #174EA6;\n",
              "      --disabled-fill-color: #AAA;\n",
              "      --disabled-bg-color: #DDD;\n",
              "  }\n",
              "\n",
              "  [theme=dark] .colab-df-quickchart {\n",
              "      --bg-color: #3B4455;\n",
              "      --fill-color: #D2E3FC;\n",
              "      --hover-bg-color: #434B5C;\n",
              "      --hover-fill-color: #FFFFFF;\n",
              "      --disabled-bg-color: #3B4455;\n",
              "      --disabled-fill-color: #666;\n",
              "  }\n",
              "\n",
              "  .colab-df-quickchart {\n",
              "    background-color: var(--bg-color);\n",
              "    border: none;\n",
              "    border-radius: 50%;\n",
              "    cursor: pointer;\n",
              "    display: none;\n",
              "    fill: var(--fill-color);\n",
              "    height: 32px;\n",
              "    padding: 0;\n",
              "    width: 32px;\n",
              "  }\n",
              "\n",
              "  .colab-df-quickchart:hover {\n",
              "    background-color: var(--hover-bg-color);\n",
              "    box-shadow: 0 1px 2px rgba(60, 64, 67, 0.3), 0 1px 3px 1px rgba(60, 64, 67, 0.15);\n",
              "    fill: var(--button-hover-fill-color);\n",
              "  }\n",
              "\n",
              "  .colab-df-quickchart-complete:disabled,\n",
              "  .colab-df-quickchart-complete:disabled:hover {\n",
              "    background-color: var(--disabled-bg-color);\n",
              "    fill: var(--disabled-fill-color);\n",
              "    box-shadow: none;\n",
              "  }\n",
              "\n",
              "  .colab-df-spinner {\n",
              "    border: 2px solid var(--fill-color);\n",
              "    border-color: transparent;\n",
              "    border-bottom-color: var(--fill-color);\n",
              "    animation:\n",
              "      spin 1s steps(1) infinite;\n",
              "  }\n",
              "\n",
              "  @keyframes spin {\n",
              "    0% {\n",
              "      border-color: transparent;\n",
              "      border-bottom-color: var(--fill-color);\n",
              "      border-left-color: var(--fill-color);\n",
              "    }\n",
              "    20% {\n",
              "      border-color: transparent;\n",
              "      border-left-color: var(--fill-color);\n",
              "      border-top-color: var(--fill-color);\n",
              "    }\n",
              "    30% {\n",
              "      border-color: transparent;\n",
              "      border-left-color: var(--fill-color);\n",
              "      border-top-color: var(--fill-color);\n",
              "      border-right-color: var(--fill-color);\n",
              "    }\n",
              "    40% {\n",
              "      border-color: transparent;\n",
              "      border-right-color: var(--fill-color);\n",
              "      border-top-color: var(--fill-color);\n",
              "    }\n",
              "    60% {\n",
              "      border-color: transparent;\n",
              "      border-right-color: var(--fill-color);\n",
              "    }\n",
              "    80% {\n",
              "      border-color: transparent;\n",
              "      border-right-color: var(--fill-color);\n",
              "      border-bottom-color: var(--fill-color);\n",
              "    }\n",
              "    90% {\n",
              "      border-color: transparent;\n",
              "      border-bottom-color: var(--fill-color);\n",
              "    }\n",
              "  }\n",
              "</style>\n",
              "\n",
              "  <script>\n",
              "    async function quickchart(key) {\n",
              "      const quickchartButtonEl =\n",
              "        document.querySelector('#' + key + ' button');\n",
              "      quickchartButtonEl.disabled = true;  // To prevent multiple clicks.\n",
              "      quickchartButtonEl.classList.add('colab-df-spinner');\n",
              "      try {\n",
              "        const charts = await google.colab.kernel.invokeFunction(\n",
              "            'suggestCharts', [key], {});\n",
              "      } catch (error) {\n",
              "        console.error('Error during call to suggestCharts:', error);\n",
              "      }\n",
              "      quickchartButtonEl.classList.remove('colab-df-spinner');\n",
              "      quickchartButtonEl.classList.add('colab-df-quickchart-complete');\n",
              "    }\n",
              "    (() => {\n",
              "      let quickchartButtonEl =\n",
              "        document.querySelector('#df-1d5a8dcf-4e94-454d-ab66-bed50497ce8d button');\n",
              "      quickchartButtonEl.style.display =\n",
              "        google.colab.kernel.accessAllowed ? 'block' : 'none';\n",
              "    })();\n",
              "  </script>\n",
              "</div>\n",
              "    </div>\n",
              "  </div>\n"
            ]
          },
          "metadata": {},
          "execution_count": 10
        }
      ],
      "source": [
        "test.head()"
      ]
    },
    {
      "cell_type": "code",
      "source": [
        "clm = train.columns\n",
        "test = test[clm]"
      ],
      "metadata": {
        "id": "-oyvPPWNjfFI"
      },
      "execution_count": null,
      "outputs": []
    },
    {
      "cell_type": "code",
      "source": [],
      "metadata": {
        "id": "vp1W4XyjjfR-"
      },
      "execution_count": null,
      "outputs": []
    },
    {
      "cell_type": "code",
      "execution_count": null,
      "metadata": {
        "colab": {
          "background_save": true,
          "base_uri": "https://localhost:8080/"
        },
        "id": "SKgqEcBdb6_l",
        "outputId": "bb245c55-457e-4140-bf5a-23db4d19def3"
      },
      "outputs": [
        {
          "name": "stderr",
          "output_type": "stream",
          "text": [
            "[nltk_data] Downloading package stopwords to /root/nltk_data...\n",
            "[nltk_data]   Package stopwords is already up-to-date!\n"
          ]
        },
        {
          "data": {
            "text/plain": [
              "True"
            ]
          },
          "execution_count": 87,
          "metadata": {},
          "output_type": "execute_result"
        }
      ],
      "source": [
        "from nltk.corpus import stopwords\n",
        "import nltk\n",
        "nltk.download('stopwords')"
      ]
    },
    {
      "cell_type": "code",
      "execution_count": null,
      "metadata": {
        "colab": {
          "background_save": true
        },
        "id": "HM187PjXb1Yo"
      },
      "outputs": [],
      "source": [
        "eng_stopwords = set(stopwords.words('english'))\n",
        "import string"
      ]
    },
    {
      "cell_type": "code",
      "execution_count": null,
      "metadata": {
        "colab": {
          "background_save": true
        },
        "id": "806GVnBMxc5J"
      },
      "outputs": [],
      "source": [
        "train['num_words'] = train['ID'].apply(lambda x: len(str(x).split()))\n",
        "test['num_words'] = test['ID'].apply(lambda x: len(str(x).split()))\n",
        "\n",
        "train['num_unique_words'] = train['ID'].apply(lambda x: len(set(str(x).split())))\n",
        "test['num_unique_words'] = test['ID'].apply(lambda x: len(set(str(x).split())))\n",
        "\n",
        "train['num_chars'] = train['ID'].apply(lambda x: len(str(x)))\n",
        "test['num_chars'] = test['ID'].apply(lambda x: len(str(x)))\n",
        "\n",
        "train['num_stopwrods'] = train['ID'].apply(lambda x: len([w for w in str(x).lower().split() if w in eng_stopwords]))\n",
        "test['num_stopwrods'] = test['ID'].apply(lambda x: len([w for w in str(x).lower().split() if w in eng_stopwords]))\n",
        "\n",
        "train['num_punctuations'] = train['ID'].apply(lambda x: len([c for c in str(x) if c in string.punctuation]))\n",
        "test['num_punctuations'] = test['ID'].apply(lambda x: len([c for c in str(x) if c in string.punctuation]))\n",
        "\n",
        "train['num_words_upper'] = train['ID'].apply(lambda x: len([w for w in str(x).split() if w.isupper()]))\n",
        "test['num_words_upper'] = test['ID'].apply(lambda x: len([w for w in str(x).split() if w.isupper()]))\n",
        "\n",
        "## Average length of the words in the text ##\n",
        "train['mean_word_len'] = train['ID'].apply(lambda x: np.mean([len(w) for w in str(x).split()]))\n",
        "test['mean_word_len'] = test['ID'].apply(lambda x: np.mean([len(w) for w in str(x).split()]))"
      ]
    },
    {
      "cell_type": "code",
      "execution_count": null,
      "metadata": {
        "colab": {
          "background_save": true
        },
        "id": "g_gWgsl-cSS9"
      },
      "outputs": [],
      "source": []
    },
    {
      "cell_type": "code",
      "execution_count": null,
      "metadata": {
        "colab": {
          "background_save": true
        },
        "id": "NkG_l72WsQZG"
      },
      "outputs": [],
      "source": [
        "train['distance'] = 1000*np.sqrt(((train['Lat']-train['Lon'])*111.1)**2+ ((train['Lon']-train['Lon'])*111.1)**2)\n",
        "test['distance'] = 1000*np.sqrt(((test['Lat']-test['Lon'])*111.1)**2+ ((test['Lon']-test['Lon'])*111.1)**2)"
      ]
    },
    {
      "cell_type": "code",
      "execution_count": null,
      "metadata": {
        "id": "5mOK_w3Wrbjw"
      },
      "outputs": [],
      "source": [
        "location_of_interest = (32.0, 48.0)\n",
        "train['Distance'] = train.apply(lambda row: geodesic((row['Lat'], row['Lon']), location_of_interest).kilometers, axis=1)"
      ]
    },
    {
      "cell_type": "code",
      "execution_count": null,
      "metadata": {
        "id": "YwE62S_IsWvP"
      },
      "outputs": [],
      "source": [
        "location_of_interest = (32.0, 48.0)\n",
        "test['Distance'] = test.apply(lambda row: geodesic((row['Lat'], row['Lon']), location_of_interest).kilometers, axis=1)"
      ]
    },
    {
      "cell_type": "code",
      "execution_count": null,
      "metadata": {
        "colab": {
          "base_uri": "https://localhost:8080/"
        },
        "id": "wYm2salaroO_",
        "outputId": "935a03c7-eb62-4b2f-b445-4fa977b07f94"
      },
      "outputs": [
        {
          "name": "stderr",
          "output_type": "stream",
          "text": [
            "/usr/local/lib/python3.10/dist-packages/sklearn/cluster/_kmeans.py:870: FutureWarning: The default value of `n_init` will change from 10 to 'auto' in 1.4. Set the value of `n_init` explicitly to suppress the warning\n",
            "  warnings.warn(\n"
          ]
        }
      ],
      "source": [
        "kmeans = KMeans(n_clusters=3, random_state=42)\n",
        "train['Cluster'] = kmeans.fit_predict(train[['Lat', 'Lon']])\n",
        "test['Cluster'] = kmeans.predict(test[['Lat', 'Lon']])"
      ]
    },
    {
      "cell_type": "code",
      "execution_count": null,
      "metadata": {
        "id": "zdynwgA6r2nm"
      },
      "outputs": [],
      "source": [
        "train['Lat_lon_interaction'] = train['Lat'] * train['Lon']\n",
        "test['Lat_lon_interaction'] = test['Lat'] * test['Lon']"
      ]
    },
    {
      "cell_type": "code",
      "execution_count": null,
      "metadata": {
        "colab": {
          "base_uri": "https://localhost:8080/"
        },
        "id": "wZsIWoGs56wK",
        "outputId": "5191d83c-f729-4211-a7c3-1aaa05274837"
      },
      "outputs": [
        {
          "name": "stderr",
          "output_type": "stream",
          "text": [
            "<ipython-input-16-60fcf0403314>:1: FutureWarning: Dropping of nuisance columns in DataFrame reductions (with 'numeric_only=None') is deprecated; in a future version this will raise TypeError.  Select only valid columns before calling the reduction.\n",
            "  train['Feature_mean'] = train.mean(axis=1)\n",
            "<ipython-input-16-60fcf0403314>:2: FutureWarning: Dropping of nuisance columns in DataFrame reductions (with 'numeric_only=None') is deprecated; in a future version this will raise TypeError.  Select only valid columns before calling the reduction.\n",
            "  test['Feature_mean'] = test.mean(axis=1)\n"
          ]
        }
      ],
      "source": [
        "train['Feature_mean'] = train.mean(axis=1)\n",
        "test['Feature_mean'] = test.mean(axis=1)"
      ]
    },
    {
      "cell_type": "code",
      "execution_count": null,
      "metadata": {
        "id": "Q5P6Zg5u6cvp"
      },
      "outputs": [],
      "source": [
        "train['Temperature'] = np.random.randint(low=0, high=50, size=len(train))\n",
        "test['Temperature'] = np.random.randint(low=0, high=50, size=len(test))"
      ]
    },
    {
      "cell_type": "code",
      "execution_count": null,
      "metadata": {
        "id": "XJpiA-uptAjn"
      },
      "outputs": [],
      "source": [
        "train['distance_log'] = np.log(train['distance'])\n",
        "test['distance_log'] = np.log(test['distance'])"
      ]
    },
    {
      "cell_type": "code",
      "execution_count": null,
      "metadata": {
        "id": "sJm_tju9u88C"
      },
      "outputs": [],
      "source": [
        "def HaversineDistance(lat1,lon1,lat2,lon2):\n",
        "\t\"\"\"\n",
        "\tReturns the distance between two lat-long cordinates in km\n",
        "\t\"\"\"\n",
        "\tREarth = 6371\n",
        "\tlat = np.abs(np.array(lat1)-np.array(lat2))*np.pi/180\n",
        "\tlon = np.abs(np.array(lon1)-np.array(lon2))*np.pi/180\n",
        "\tlat1 = np.array(lat1)*np.pi/180\n",
        "\tlat2 = np.array(lat2)*np.pi/180\n",
        "\ta = np.sin(lat/2)*np.sin(lat/2)+np.cos(lat1)*np.cos(lat2)*np.sin(lon/2)*np.sin(lon/2)\n",
        "\td = 2*np.arctan2(np.sqrt(a),np.sqrt(1-a))\n",
        "\td = REarth*d\n",
        "\treturn d\n",
        "\n",
        "train[\"Havdistance\"] = (\n",
        "    HaversineDistance(\n",
        "        train.loc[:, \"Lat\"], train.loc[:, \"Lon\"],\n",
        "        train.loc[:, \"Lon\"], train.loc[:, \"Lat\"]\n",
        "    )\n",
        ")\n",
        "test[\"Havdistance\"] = (\n",
        "    HaversineDistance(\n",
        "        test.loc[:, \"Lat\"], test.loc[:, \"Lon\"],\n",
        "        test.loc[:, \"Lon\"], test.loc[:, \"Lat\"]\n",
        "    )\n",
        ")"
      ]
    },
    {
      "cell_type": "code",
      "execution_count": null,
      "metadata": {
        "colab": {
          "base_uri": "https://localhost:8080/"
        },
        "id": "LtA86WLfsGtH",
        "outputId": "3227ce6c-2f86-4771-f447-1318ac6a7c7c"
      },
      "outputs": [
        {
          "data": {
            "text/plain": [
              "(1000, 18)"
            ]
          },
          "execution_count": 20,
          "metadata": {},
          "output_type": "execute_result"
        }
      ],
      "source": [
        "test.shape"
      ]
    },
    {
      "cell_type": "code",
      "execution_count": null,
      "metadata": {
        "id": "n4X1gsQEZb-M"
      },
      "outputs": [],
      "source": [
        "y = train[\"Target\"]"
      ]
    },
    {
      "cell_type": "code",
      "execution_count": null,
      "metadata": {
        "id": "_GOz96V_YQmA"
      },
      "outputs": [],
      "source": [
        "train = train.drop([\"ID\",\"Target\"],axis=1)\n",
        "test = test.drop(\"ID\",axis=1)"
      ]
    },
    {
      "cell_type": "code",
      "execution_count": null,
      "metadata": {
        "id": "EZTYwqgfYblP"
      },
      "outputs": [],
      "source": [
        "oversampler = RandomOverSampler(random_state=42)\n",
        "under_sampler = RandomUnderSampler(random_state=42)\n",
        "\n",
        "x_train_resampled, y_train_resampled = oversampler.fit_resample(train, y)\n",
        "X_train, y_train = under_sampler.fit_resample(x_train_resampled, y_train_resampled)"
      ]
    },
    {
      "cell_type": "code",
      "execution_count": null,
      "metadata": {
        "colab": {
          "base_uri": "https://localhost:8080/"
        },
        "id": "NI-KemwJYdBV",
        "outputId": "14567e17-224a-4acd-eb49-517c614d4da7"
      },
      "outputs": [
        {
          "data": {
            "text/plain": [
              "(1000, 17)"
            ]
          },
          "execution_count": 24,
          "metadata": {},
          "output_type": "execute_result"
        }
      ],
      "source": [
        "X_train.shape"
      ]
    },
    {
      "cell_type": "code",
      "execution_count": null,
      "metadata": {
        "colab": {
          "base_uri": "https://localhost:8080/"
        },
        "id": "oQ895XpFt1eR",
        "outputId": "f4930d60-4614-4acf-e978-ed5df42cdce3"
      },
      "outputs": [
        {
          "data": {
            "text/plain": [
              "(1000, 17)"
            ]
          },
          "execution_count": 25,
          "metadata": {},
          "output_type": "execute_result"
        }
      ],
      "source": [
        "test.shape"
      ]
    },
    {
      "cell_type": "code",
      "execution_count": null,
      "metadata": {
        "id": "d15Yn00zwz_u"
      },
      "outputs": [],
      "source": [
        "scale = MinMaxScaler()\n",
        "train = scale.fit_transform(train)\n",
        "test = scale.fit_transform(test)"
      ]
    },
    {
      "cell_type": "code",
      "execution_count": null,
      "metadata": {
        "id": "p1VdSZYhxJ9v"
      },
      "outputs": [],
      "source": [
        "train = X_train\n",
        "test = test\n",
        "y = y_train"
      ]
    },
    {
      "cell_type": "code",
      "source": [
        "y.unique()"
      ],
      "metadata": {
        "colab": {
          "base_uri": "https://localhost:8080/"
        },
        "id": "xHfEgDnvkXVi",
        "outputId": "64d0261a-2d9a-4f7e-e481-479f2ca93ed5"
      },
      "execution_count": null,
      "outputs": [
        {
          "output_type": "execute_result",
          "data": {
            "text/plain": [
              "array([1, 0])"
            ]
          },
          "metadata": {},
          "execution_count": 43
        }
      ]
    },
    {
      "cell_type": "code",
      "execution_count": null,
      "metadata": {
        "colab": {
          "base_uri": "https://localhost:8080/"
        },
        "id": "HZ25Wx4mxROF",
        "outputId": "fa3ed7ed-c59b-4527-eed7-d71b4378fb8f"
      },
      "outputs": [
        {
          "output_type": "stream",
          "name": "stderr",
          "text": [
            "[I 2023-10-02 23:38:58,827] A new study created in memory with name: no-name-057ac9f4-0b0d-4c01-a5a0-fbe42938cb17\n",
            "/usr/local/lib/python3.10/dist-packages/xgboost/core.py:617: FutureWarning: Pass `evals` as keyword args.\n",
            "  warnings.warn(msg, FutureWarning)\n"
          ]
        },
        {
          "output_type": "stream",
          "name": "stdout",
          "text": [
            "[0]\ttrain-mlogloss:0.65720\tval-mlogloss:0.65544\n",
            "[2]\ttrain-mlogloss:0.59929\tval-mlogloss:0.59436\n"
          ]
        },
        {
          "output_type": "stream",
          "name": "stderr",
          "text": [
            "[I 2023-10-02 23:39:33,720] Trial 0 finished with value: 0.5943579993393315 and parameters: {'eta': 0.07101588889671277, 'max_depth': 10, 'min_child_weight': 1.0914584396861469, 'subsample': 0.5440650509836134, 'colsample_bytree': 0.3205496799476214}. Best is trial 0 with value: 0.5943579993393315.\n"
          ]
        },
        {
          "output_type": "stream",
          "name": "stdout",
          "text": [
            "[0]\ttrain-mlogloss:0.65355\tval-mlogloss:0.65163\n",
            "[2]\ttrain-mlogloss:0.59108\tval-mlogloss:0.58574\n"
          ]
        },
        {
          "output_type": "stream",
          "name": "stderr",
          "text": [
            "[I 2023-10-02 23:40:04,208] Trial 1 finished with value: 0.5857415720206706 and parameters: {'eta': 0.07830362092819604, 'max_depth': 3, 'min_child_weight': 0.40651128232754, 'subsample': 0.7039530065985028, 'colsample_bytree': 0.5531213147330518}. Best is trial 1 with value: 0.5857415720206706.\n"
          ]
        },
        {
          "output_type": "stream",
          "name": "stdout",
          "text": [
            "[0]\ttrain-mlogloss:0.68488\tval-mlogloss:0.68449\n",
            "[2]\ttrain-mlogloss:0.66914\tval-mlogloss:0.66798\n"
          ]
        },
        {
          "output_type": "stream",
          "name": "stderr",
          "text": [
            "[I 2023-10-02 23:40:31,067] Trial 2 finished with value: 0.6679758366191211 and parameters: {'eta': 0.01589037062435318, 'max_depth': 10, 'min_child_weight': 2.83857069022858, 'subsample': 0.6575303024943132, 'colsample_bytree': 0.9483869052187545}. Best is trial 1 with value: 0.5857415720206706.\n"
          ]
        },
        {
          "output_type": "stream",
          "name": "stdout",
          "text": [
            "[0]\ttrain-mlogloss:0.68277\tval-mlogloss:0.68228\n",
            "[2]\ttrain-mlogloss:0.66325\tval-mlogloss:0.66180\n"
          ]
        },
        {
          "output_type": "stream",
          "name": "stderr",
          "text": [
            "[I 2023-10-02 23:40:58,415] Trial 3 finished with value: 0.6617967789314527 and parameters: {'eta': 0.019999917619459316, 'max_depth': 9, 'min_child_weight': 0.7364465892165719, 'subsample': 0.6105044341659096, 'colsample_bytree': 0.8061370030487768}. Best is trial 1 with value: 0.5857415720206706.\n"
          ]
        },
        {
          "output_type": "stream",
          "name": "stdout",
          "text": [
            "[0]\ttrain-mlogloss:0.67068\tval-mlogloss:0.66961\n",
            "[2]\ttrain-mlogloss:0.63139\tval-mlogloss:0.62834\n"
          ]
        },
        {
          "output_type": "stream",
          "name": "stderr",
          "text": [
            "[I 2023-10-02 23:41:27,781] Trial 4 finished with value: 0.6283409566030864 and parameters: {'eta': 0.04370155245204027, 'max_depth': 5, 'min_child_weight': 0.3694334867252968, 'subsample': 0.5330187790747993, 'colsample_bytree': 0.2173570099783429}. Best is trial 1 with value: 0.5857415720206706.\n"
          ]
        },
        {
          "output_type": "stream",
          "name": "stdout",
          "text": [
            "[0]\ttrain-mlogloss:0.66332\tval-mlogloss:0.66186\n",
            "[2]\ttrain-mlogloss:0.61327\tval-mlogloss:0.60915\n"
          ]
        },
        {
          "output_type": "stream",
          "name": "stderr",
          "text": [
            "[I 2023-10-02 23:41:55,355] Trial 5 finished with value: 0.6091478586786072 and parameters: {'eta': 0.05868090923041768, 'max_depth': 8, 'min_child_weight': 0.6036690966379351, 'subsample': 0.6133240941307876, 'colsample_bytree': 0.8196525631258149}. Best is trial 1 with value: 0.5857415720206706.\n"
          ]
        },
        {
          "output_type": "stream",
          "name": "stdout",
          "text": [
            "[0]\ttrain-mlogloss:0.65063\tval-mlogloss:0.64860\n",
            "[2]\ttrain-mlogloss:0.58558\tval-mlogloss:0.58006\n"
          ]
        },
        {
          "output_type": "stream",
          "name": "stderr",
          "text": [
            "[I 2023-10-02 23:42:33,537] Trial 6 finished with value: 0.5800550525526238 and parameters: {'eta': 0.0825405344919137, 'max_depth': 8, 'min_child_weight': 0.14176235291318248, 'subsample': 0.1895471557124061, 'colsample_bytree': 0.5612803267562184}. Best is trial 6 with value: 0.5800550525526238.\n"
          ]
        },
        {
          "output_type": "stream",
          "name": "stdout",
          "text": [
            "[0]\ttrain-mlogloss:0.68658\tval-mlogloss:0.68627\n",
            "[2]\ttrain-mlogloss:0.67394\tval-mlogloss:0.67302\n"
          ]
        },
        {
          "output_type": "stream",
          "name": "stderr",
          "text": [
            "[I 2023-10-02 23:42:59,540] Trial 7 finished with value: 0.6730174303447591 and parameters: {'eta': 0.0126120221863813, 'max_depth': 4, 'min_child_weight': 1.5570838329598755, 'subsample': 0.9719555046088937, 'colsample_bytree': 0.92851868908389}. Best is trial 6 with value: 0.5800550525526238.\n"
          ]
        },
        {
          "output_type": "stream",
          "name": "stdout",
          "text": [
            "[0]\ttrain-mlogloss:0.68725\tval-mlogloss:0.68697\n",
            "[2]\ttrain-mlogloss:0.67591\tval-mlogloss:0.67508\n"
          ]
        },
        {
          "output_type": "stream",
          "name": "stderr",
          "text": [
            "[I 2023-10-02 23:43:22,231] Trial 8 finished with value: 0.6750825773648415 and parameters: {'eta': 0.011275009711267636, 'max_depth': 8, 'min_child_weight': 0.912419826677447, 'subsample': 0.7168280475273873, 'colsample_bytree': 0.1761224473808073}. Best is trial 6 with value: 0.5800550525526238.\n"
          ]
        },
        {
          "output_type": "stream",
          "name": "stdout",
          "text": [
            "[0]\ttrain-mlogloss:0.68596\tval-mlogloss:0.68561\n",
            "[2]\ttrain-mlogloss:0.67221\tval-mlogloss:0.67120\n"
          ]
        },
        {
          "output_type": "stream",
          "name": "stderr",
          "text": [
            "[I 2023-10-02 23:43:47,894] Trial 9 finished with value: 0.6712028685668744 and parameters: {'eta': 0.013780431339773922, 'max_depth': 8, 'min_child_weight': 0.7819030390178234, 'subsample': 0.8342232900206467, 'colsample_bytree': 0.6019521851336966}. Best is trial 6 with value: 0.5800550525526238.\n"
          ]
        },
        {
          "output_type": "stream",
          "name": "stdout",
          "text": [
            "[0]\ttrain-mlogloss:0.64498\tval-mlogloss:0.64265\n",
            "[2]\ttrain-mlogloss:0.57476\tval-mlogloss:0.56853\n"
          ]
        },
        {
          "output_type": "stream",
          "name": "stderr",
          "text": [
            "[I 2023-10-02 23:44:24,575] Trial 10 finished with value: 0.5685259007543473 and parameters: {'eta': 0.09332941448181307, 'max_depth': 6, 'min_child_weight': 0.11061576293307551, 'subsample': 0.14188416853263863, 'colsample_bytree': 0.40837596919779084}. Best is trial 10 with value: 0.5685259007543473.\n"
          ]
        },
        {
          "output_type": "stream",
          "name": "stdout",
          "text": [
            "[0]\ttrain-mlogloss:0.64386\tval-mlogloss:0.64147\n",
            "[2]\ttrain-mlogloss:0.57257\tval-mlogloss:0.56620\n"
          ]
        },
        {
          "output_type": "stream",
          "name": "stderr",
          "text": [
            "[I 2023-10-02 23:44:55,484] Trial 11 finished with value: 0.566202412719978 and parameters: {'eta': 0.09601232790109912, 'max_depth': 6, 'min_child_weight': 0.12559947205915134, 'subsample': 0.15274317021200595, 'colsample_bytree': 0.4199479485094725}. Best is trial 11 with value: 0.566202412719978.\n"
          ]
        },
        {
          "output_type": "stream",
          "name": "stdout",
          "text": [
            "[0]\ttrain-mlogloss:0.64304\tval-mlogloss:0.64061\n",
            "[2]\ttrain-mlogloss:0.57049\tval-mlogloss:0.56400\n"
          ]
        },
        {
          "output_type": "stream",
          "name": "stderr",
          "text": [
            "[I 2023-10-02 23:45:23,259] Trial 12 finished with value: 0.5639951474093134 and parameters: {'eta': 0.09748772805484111, 'max_depth': 6, 'min_child_weight': 0.12858612064514036, 'subsample': 0.11284082263398226, 'colsample_bytree': 0.38454192148496674}. Best is trial 12 with value: 0.5639951474093134.\n"
          ]
        },
        {
          "output_type": "stream",
          "name": "stdout",
          "text": [
            "[0]\ttrain-mlogloss:0.64347\tval-mlogloss:0.64106\n",
            "[2]\ttrain-mlogloss:0.56962\tval-mlogloss:0.56306\n"
          ]
        },
        {
          "output_type": "stream",
          "name": "stderr",
          "text": [
            "[I 2023-10-02 23:45:56,190] Trial 13 finished with value: 0.5630622053951565 and parameters: {'eta': 0.0988741780313132, 'max_depth': 6, 'min_child_weight': 0.19844064779381673, 'subsample': 0.26464473932551413, 'colsample_bytree': 0.3983409786054903}. Best is trial 13 with value: 0.5630622053951565.\n"
          ]
        },
        {
          "output_type": "stream",
          "name": "stdout",
          "text": [
            "[0]\ttrain-mlogloss:0.66645\tval-mlogloss:0.66518\n",
            "[2]\ttrain-mlogloss:0.62110\tval-mlogloss:0.61751\n"
          ]
        },
        {
          "output_type": "stream",
          "name": "stderr",
          "text": [
            "[I 2023-10-02 23:46:23,953] Trial 14 finished with value: 0.6175069705363749 and parameters: {'eta': 0.05191509940489815, 'max_depth': 5, 'min_child_weight': 0.23693538346822468, 'subsample': 0.2966992270007024, 'colsample_bytree': 0.2909337227332135}. Best is trial 13 with value: 0.5630622053951565.\n"
          ]
        },
        {
          "output_type": "stream",
          "name": "stdout",
          "text": [
            "[0]\ttrain-mlogloss:0.67520\tval-mlogloss:0.67436\n",
            "[2]\ttrain-mlogloss:0.64301\tval-mlogloss:0.64059\n"
          ]
        },
        {
          "output_type": "stream",
          "name": "stderr",
          "text": [
            "[I 2023-10-02 23:46:59,061] Trial 15 finished with value: 0.6405874808891209 and parameters: {'eta': 0.03453843424595367, 'max_depth': 7, 'min_child_weight': 0.25608365528281385, 'subsample': 0.3345894599043775, 'colsample_bytree': 0.4236298103699686}. Best is trial 13 with value: 0.5630622053951565.\n"
          ]
        },
        {
          "output_type": "stream",
          "name": "stdout",
          "text": [
            "[0]\ttrain-mlogloss:0.66140\tval-mlogloss:0.65988\n",
            "[2]\ttrain-mlogloss:0.60891\tval-mlogloss:0.60464\n"
          ]
        },
        {
          "output_type": "stream",
          "name": "stderr",
          "text": [
            "[I 2023-10-02 23:47:23,817] Trial 16 finished with value: 0.6046408433006859 and parameters: {'eta': 0.06222978239952319, 'max_depth': 5, 'min_child_weight': 0.20395747869968917, 'subsample': 0.3002539735890326, 'colsample_bytree': 0.1141149042656327}. Best is trial 13 with value: 0.5630622053951565.\n"
          ]
        },
        {
          "output_type": "stream",
          "name": "stdout",
          "text": [
            "[0]\ttrain-mlogloss:0.64242\tval-mlogloss:0.63996\n",
            "[2]\ttrain-mlogloss:0.56957\tval-mlogloss:0.56305\n"
          ]
        },
        {
          "output_type": "stream",
          "name": "stderr",
          "text": [
            "[I 2023-10-02 23:47:59,314] Trial 17 finished with value: 0.5630519072934862 and parameters: {'eta': 0.09784083370257694, 'max_depth': 7, 'min_child_weight': 0.10966213967552765, 'subsample': 0.10944740366333712, 'colsample_bytree': 0.6535489942935376}. Best is trial 17 with value: 0.5630519072934862.\n"
          ]
        },
        {
          "output_type": "stream",
          "name": "stdout",
          "text": [
            "[0]\ttrain-mlogloss:0.67000\tval-mlogloss:0.66888\n",
            "[2]\ttrain-mlogloss:0.62974\tval-mlogloss:0.62653\n"
          ]
        },
        {
          "output_type": "stream",
          "name": "stderr",
          "text": [
            "[I 2023-10-02 23:48:25,096] Trial 18 finished with value: 0.6265335917178253 and parameters: {'eta': 0.04501442688301329, 'max_depth': 7, 'min_child_weight': 5.857480247229907, 'subsample': 0.4204126228538181, 'colsample_bytree': 0.6515508810554095}. Best is trial 17 with value: 0.5630519072934862.\n"
          ]
        },
        {
          "output_type": "stream",
          "name": "stdout",
          "text": [
            "[0]\ttrain-mlogloss:0.65705\tval-mlogloss:0.65531\n",
            "[2]\ttrain-mlogloss:0.59894\tval-mlogloss:0.59409\n"
          ]
        },
        {
          "output_type": "stream",
          "name": "stderr",
          "text": [
            "[I 2023-10-02 23:48:53,920] Trial 19 finished with value: 0.5940873764786728 and parameters: {'eta': 0.070788821009598, 'max_depth': 4, 'min_child_weight': 0.10106027301254515, 'subsample': 0.21886932876760223, 'colsample_bytree': 0.4860901077288481}. Best is trial 17 with value: 0.5630519072934862.\n"
          ]
        },
        {
          "output_type": "stream",
          "name": "stdout",
          "text": [
            "[0]\ttrain-mlogloss:0.67887\tval-mlogloss:0.67820\n",
            "[2]\ttrain-mlogloss:0.65259\tval-mlogloss:0.65065\n"
          ]
        },
        {
          "output_type": "stream",
          "name": "stderr",
          "text": [
            "[I 2023-10-02 23:49:40,622] Trial 20 finished with value: 0.6506536620158143 and parameters: {'eta': 0.02744396025505585, 'max_depth': 7, 'min_child_weight': 0.17937164277800646, 'subsample': 0.4387258091744422, 'colsample_bytree': 0.6357388052299767}. Best is trial 17 with value: 0.5630519072934862.\n"
          ]
        },
        {
          "output_type": "stream",
          "name": "stdout",
          "text": [
            "[0]\ttrain-mlogloss:0.64184\tval-mlogloss:0.63934\n",
            "[2]\ttrain-mlogloss:0.56800\tval-mlogloss:0.56135\n"
          ]
        },
        {
          "output_type": "stream",
          "name": "stderr",
          "text": [
            "[I 2023-10-02 23:50:07,934] Trial 21 finished with value: 0.5613459488116144 and parameters: {'eta': 0.09996577530171484, 'max_depth': 6, 'min_child_weight': 0.1845247687832522, 'subsample': 0.11188900141268737, 'colsample_bytree': 0.3454666973788179}. Best is trial 21 with value: 0.5613459488116144.\n"
          ]
        },
        {
          "output_type": "stream",
          "name": "stdout",
          "text": [
            "[0]\ttrain-mlogloss:0.65103\tval-mlogloss:0.64901\n",
            "[2]\ttrain-mlogloss:0.58723\tval-mlogloss:0.58174\n"
          ]
        },
        {
          "output_type": "stream",
          "name": "stderr",
          "text": [
            "[I 2023-10-02 23:50:38,322] Trial 22 finished with value: 0.5817445474853232 and parameters: {'eta': 0.08082102264819258, 'max_depth': 6, 'min_child_weight': 0.2886378379411304, 'subsample': 0.11109077394179491, 'colsample_bytree': 0.4871107091592752}. Best is trial 21 with value: 0.5613459488116144.\n"
          ]
        },
        {
          "output_type": "stream",
          "name": "stdout",
          "text": [
            "[0]\ttrain-mlogloss:0.64384\tval-mlogloss:0.64146\n",
            "[2]\ttrain-mlogloss:0.57086\tval-mlogloss:0.56441\n"
          ]
        },
        {
          "output_type": "stream",
          "name": "stderr",
          "text": [
            "[I 2023-10-02 23:51:10,807] Trial 23 finished with value: 0.5644135545368446 and parameters: {'eta': 0.09757237626319848, 'max_depth': 7, 'min_child_weight': 0.1707425349827355, 'subsample': 0.23708046945875635, 'colsample_bytree': 0.31686153521212024}. Best is trial 21 with value: 0.5613459488116144.\n"
          ]
        },
        {
          "output_type": "stream",
          "name": "stdout",
          "text": [
            "[0]\ttrain-mlogloss:0.65969\tval-mlogloss:0.65808\n",
            "[2]\ttrain-mlogloss:0.60507\tval-mlogloss:0.60058\n"
          ]
        },
        {
          "output_type": "stream",
          "name": "stderr",
          "text": [
            "[I 2023-10-02 23:51:44,791] Trial 24 finished with value: 0.6005835532160135 and parameters: {'eta': 0.06515199429265159, 'max_depth': 5, 'min_child_weight': 0.3500500230336184, 'subsample': 0.2255826862583834, 'colsample_bytree': 0.7029188101632017}. Best is trial 21 with value: 0.5613459488116144.\n"
          ]
        },
        {
          "output_type": "stream",
          "name": "stdout",
          "text": [
            "[0]\ttrain-mlogloss:0.65151\tval-mlogloss:0.64949\n",
            "[2]\ttrain-mlogloss:0.58822\tval-mlogloss:0.58274\n"
          ]
        },
        {
          "output_type": "stream",
          "name": "stderr",
          "text": [
            "[I 2023-10-02 23:52:11,388] Trial 25 finished with value: 0.582738376773366 and parameters: {'eta': 0.0802740184084237, 'max_depth': 4, 'min_child_weight': 0.18765406634380163, 'subsample': 0.11078222847863659, 'colsample_bytree': 0.48962919184274856}. Best is trial 21 with value: 0.5613459488116144.\n"
          ]
        },
        {
          "output_type": "stream",
          "name": "stdout",
          "text": [
            "[0]\ttrain-mlogloss:0.66375\tval-mlogloss:0.66237\n",
            "[2]\ttrain-mlogloss:0.61441\tval-mlogloss:0.61053\n"
          ]
        },
        {
          "output_type": "stream",
          "name": "stderr",
          "text": [
            "[I 2023-10-02 23:52:41,901] Trial 26 finished with value: 0.6105268215131524 and parameters: {'eta': 0.056948222562124846, 'max_depth': 9, 'min_child_weight': 0.10101537669238139, 'subsample': 0.2196509767368606, 'colsample_bytree': 0.252747014966687}. Best is trial 21 with value: 0.5613459488116144.\n"
          ]
        },
        {
          "output_type": "stream",
          "name": "stdout",
          "text": [
            "[0]\ttrain-mlogloss:0.65652\tval-mlogloss:0.65477\n",
            "[2]\ttrain-mlogloss:0.59946\tval-mlogloss:0.59468\n"
          ]
        },
        {
          "output_type": "stream",
          "name": "stderr",
          "text": [
            "[I 2023-10-02 23:53:09,371] Trial 27 finished with value: 0.5946839450807901 and parameters: {'eta': 0.0693822440267617, 'max_depth': 6, 'min_child_weight': 0.4799337498870008, 'subsample': 0.10092776789792617, 'colsample_bytree': 0.34576559347801644}. Best is trial 21 with value: 0.5613459488116144.\n"
          ]
        },
        {
          "output_type": "stream",
          "name": "stdout",
          "text": [
            "[0]\ttrain-mlogloss:0.64250\tval-mlogloss:0.64005\n",
            "[2]\ttrain-mlogloss:0.56912\tval-mlogloss:0.56257\n"
          ]
        },
        {
          "output_type": "stream",
          "name": "stderr",
          "text": [
            "[I 2023-10-02 23:53:37,634] Trial 28 finished with value: 0.5625748892592441 and parameters: {'eta': 0.09924528387605809, 'max_depth': 7, 'min_child_weight': 0.2800117736851162, 'subsample': 0.1766663692846019, 'colsample_bytree': 0.2418963755907273}. Best is trial 21 with value: 0.5613459488116144.\n"
          ]
        },
        {
          "output_type": "stream",
          "name": "stdout",
          "text": [
            "[0]\ttrain-mlogloss:0.65464\tval-mlogloss:0.65281\n",
            "[2]\ttrain-mlogloss:0.59438\tval-mlogloss:0.58939\n"
          ]
        },
        {
          "output_type": "stream",
          "name": "stderr",
          "text": [
            "[I 2023-10-02 23:54:07,150] Trial 29 finished with value: 0.5893887054586332 and parameters: {'eta': 0.07436886997486136, 'max_depth': 9, 'min_child_weight': 0.2925402122601526, 'subsample': 0.1694178409984157, 'colsample_bytree': 0.27702346396119715}. Best is trial 21 with value: 0.5613459488116144.\n"
          ]
        },
        {
          "output_type": "stream",
          "name": "stdout",
          "text": [
            "[0]\ttrain-mlogloss:0.65029\tval-mlogloss:0.64823\n",
            "[2]\ttrain-mlogloss:0.58400\tval-mlogloss:0.57835\n"
          ]
        },
        {
          "output_type": "stream",
          "name": "stderr",
          "text": [
            "[I 2023-10-02 23:54:36,593] Trial 30 finished with value: 0.5783471033541728 and parameters: {'eta': 0.08450326989441313, 'max_depth': 7, 'min_child_weight': 0.15481846933327884, 'subsample': 0.3574240446831256, 'colsample_bytree': 0.19045695769239518}. Best is trial 21 with value: 0.5613459488116144.\n"
          ]
        },
        {
          "output_type": "stream",
          "name": "stdout",
          "text": [
            "[0]\ttrain-mlogloss:0.64305\tval-mlogloss:0.64063\n",
            "[2]\ttrain-mlogloss:0.57019\tval-mlogloss:0.56370\n"
          ]
        },
        {
          "output_type": "stream",
          "name": "stderr",
          "text": [
            "[I 2023-10-02 23:55:06,374] Trial 31 finished with value: 0.5637029373567226 and parameters: {'eta': 0.0981393396800142, 'max_depth': 7, 'min_child_weight': 0.22264360167634392, 'subsample': 0.17468841409710736, 'colsample_bytree': 0.3469799331770902}. Best is trial 21 with value: 0.5613459488116144.\n"
          ]
        },
        {
          "output_type": "stream",
          "name": "stdout",
          "text": [
            "[0]\ttrain-mlogloss:0.65017\tval-mlogloss:0.64810\n",
            "[2]\ttrain-mlogloss:0.58362\tval-mlogloss:0.57792\n"
          ]
        },
        {
          "output_type": "stream",
          "name": "stderr",
          "text": [
            "[I 2023-10-02 23:55:34,533] Trial 32 finished with value: 0.5779249740295002 and parameters: {'eta': 0.08512976412501977, 'max_depth': 6, 'min_child_weight': 0.15449568437580694, 'subsample': 0.27984614974344174, 'colsample_bytree': 0.2542755086937818}. Best is trial 21 with value: 0.5613459488116144.\n"
          ]
        },
        {
          "output_type": "stream",
          "name": "stdout",
          "text": [
            "[0]\ttrain-mlogloss:0.65492\tval-mlogloss:0.65308\n",
            "[2]\ttrain-mlogloss:0.59515\tval-mlogloss:0.59010\n"
          ]
        },
        {
          "output_type": "stream",
          "name": "stderr",
          "text": [
            "[I 2023-10-02 23:56:01,719] Trial 33 finished with value: 0.5901028566442957 and parameters: {'eta': 0.07411971187979013, 'max_depth': 5, 'min_child_weight': 0.42482712411796225, 'subsample': 0.1850191935441782, 'colsample_bytree': 0.318952478260629}. Best is trial 21 with value: 0.5613459488116144.\n"
          ]
        },
        {
          "output_type": "stream",
          "name": "stdout",
          "text": [
            "[0]\ttrain-mlogloss:0.65754\tval-mlogloss:0.65585\n",
            "[2]\ttrain-mlogloss:0.60003\tval-mlogloss:0.59533\n"
          ]
        },
        {
          "output_type": "stream",
          "name": "stderr",
          "text": [
            "[I 2023-10-02 23:56:37,499] Trial 34 finished with value: 0.5953349254571233 and parameters: {'eta': 0.06968018653389554, 'max_depth': 8, 'min_child_weight': 0.22264980611864568, 'subsample': 0.25633177573914245, 'colsample_bytree': 0.3682649242787369}. Best is trial 21 with value: 0.5613459488116144.\n"
          ]
        },
        {
          "output_type": "stream",
          "name": "stdout",
          "text": [
            "[0]\ttrain-mlogloss:0.64853\tval-mlogloss:0.64635\n",
            "[2]\ttrain-mlogloss:0.58188\tval-mlogloss:0.57599\n"
          ]
        },
        {
          "output_type": "stream",
          "name": "stderr",
          "text": [
            "[I 2023-10-02 23:57:03,458] Trial 35 finished with value: 0.5759901659688996 and parameters: {'eta': 0.08703613352554218, 'max_depth': 3, 'min_child_weight': 0.3167239524377606, 'subsample': 0.1608341123726891, 'colsample_bytree': 0.45883484225555865}. Best is trial 21 with value: 0.5613459488116144.\n"
          ]
        },
        {
          "output_type": "stream",
          "name": "stdout",
          "text": [
            "[0]\ttrain-mlogloss:0.64326\tval-mlogloss:0.64088\n",
            "[2]\ttrain-mlogloss:0.56932\tval-mlogloss:0.56289\n"
          ]
        },
        {
          "output_type": "stream",
          "name": "stderr",
          "text": [
            "[I 2023-10-02 23:57:41,196] Trial 36 finished with value: 0.562891026256112 and parameters: {'eta': 0.09897133032960559, 'max_depth': 10, 'min_child_weight': 0.4856056885195365, 'subsample': 0.25556694422405124, 'colsample_bytree': 0.3659272805996228}. Best is trial 21 with value: 0.5613459488116144.\n"
          ]
        },
        {
          "output_type": "stream",
          "name": "stdout",
          "text": [
            "[0]\ttrain-mlogloss:0.65151\tval-mlogloss:0.64954\n",
            "[2]\ttrain-mlogloss:0.58666\tval-mlogloss:0.58125\n"
          ]
        },
        {
          "output_type": "stream",
          "name": "stderr",
          "text": [
            "[I 2023-10-02 23:58:23,201] Trial 37 finished with value: 0.5812536956254497 and parameters: {'eta': 0.08159693120655756, 'max_depth': 10, 'min_child_weight': 0.4595864040757421, 'subsample': 0.21008576652408506, 'colsample_bytree': 0.5471735644979617}. Best is trial 21 with value: 0.5613459488116144.\n"
          ]
        },
        {
          "output_type": "stream",
          "name": "stdout",
          "text": [
            "[0]\ttrain-mlogloss:0.66031\tval-mlogloss:0.65877\n",
            "[2]\ttrain-mlogloss:0.60796\tval-mlogloss:0.60375\n"
          ]
        },
        {
          "output_type": "stream",
          "name": "stderr",
          "text": [
            "[I 2023-10-02 23:58:51,089] Trial 38 finished with value: 0.6037470699338583 and parameters: {'eta': 0.06135817493186341, 'max_depth': 10, 'min_child_weight': 0.3178450977359297, 'subsample': 0.10042334919297416, 'colsample_bytree': 0.24709583978032545}. Best is trial 21 with value: 0.5613459488116144.\n"
          ]
        },
        {
          "output_type": "stream",
          "name": "stdout",
          "text": [
            "[0]\ttrain-mlogloss:0.65482\tval-mlogloss:0.65293\n",
            "[2]\ttrain-mlogloss:0.59549\tval-mlogloss:0.59033\n"
          ]
        },
        {
          "output_type": "stream",
          "name": "stderr",
          "text": [
            "[I 2023-10-02 23:59:15,593] Trial 39 finished with value: 0.5903334840027465 and parameters: {'eta': 0.0746042304586915, 'max_depth': 9, 'min_child_weight': 0.6183648103963117, 'subsample': 0.15774868721292382, 'colsample_bytree': 0.15567073240468451}. Best is trial 21 with value: 0.5613459488116144.\n"
          ]
        },
        {
          "output_type": "stream",
          "name": "stdout",
          "text": [
            "[0]\ttrain-mlogloss:0.64872\tval-mlogloss:0.64659\n",
            "[2]\ttrain-mlogloss:0.58071\tval-mlogloss:0.57490\n"
          ]
        },
        {
          "output_type": "stream",
          "name": "stderr",
          "text": [
            "[I 2023-10-02 23:59:50,263] Trial 40 finished with value: 0.5748965873258707 and parameters: {'eta': 0.08769439148202804, 'max_depth': 8, 'min_child_weight': 0.13881147886182396, 'subsample': 0.3440591525971132, 'colsample_bytree': 0.30937560702819705}. Best is trial 21 with value: 0.5613459488116144.\n"
          ]
        },
        {
          "output_type": "stream",
          "name": "stdout",
          "text": [
            "[0]\ttrain-mlogloss:0.64326\tval-mlogloss:0.64084\n",
            "[2]\ttrain-mlogloss:0.56914\tval-mlogloss:0.56256\n"
          ]
        },
        {
          "output_type": "stream",
          "name": "stderr",
          "text": [
            "[I 2023-10-03 00:00:21,288] Trial 41 finished with value: 0.562559468300378 and parameters: {'eta': 0.09939824540979864, 'max_depth': 6, 'min_child_weight': 0.2403581493778667, 'subsample': 0.26728807693075796, 'colsample_bytree': 0.3899490350420064}. Best is trial 21 with value: 0.5613459488116144.\n"
          ]
        },
        {
          "output_type": "stream",
          "name": "stdout",
          "text": [
            "[0]\ttrain-mlogloss:0.64271\tval-mlogloss:0.64025\n",
            "[2]\ttrain-mlogloss:0.56875\tval-mlogloss:0.56211\n"
          ]
        },
        {
          "output_type": "stream",
          "name": "stderr",
          "text": [
            "[I 2023-10-03 00:00:47,229] Trial 42 finished with value: 0.5621075546230869 and parameters: {'eta': 0.09996918767201186, 'max_depth': 5, 'min_child_weight': 0.250677067332445, 'subsample': 0.19844824462484617, 'colsample_bytree': 0.2172939245155371}. Best is trial 21 with value: 0.5613459488116144.\n"
          ]
        },
        {
          "output_type": "stream",
          "name": "stdout",
          "text": [
            "[0]\ttrain-mlogloss:0.64891\tval-mlogloss:0.64676\n",
            "[2]\ttrain-mlogloss:0.58160\tval-mlogloss:0.57572\n"
          ]
        },
        {
          "output_type": "stream",
          "name": "stderr",
          "text": [
            "[I 2023-10-03 00:01:12,340] Trial 43 finished with value: 0.5757205801014059 and parameters: {'eta': 0.08715653149426562, 'max_depth': 4, 'min_child_weight': 0.3704220456791424, 'subsample': 0.1981042176005531, 'colsample_bytree': 0.19697459829288555}. Best is trial 21 with value: 0.5613459488116144.\n"
          ]
        },
        {
          "output_type": "stream",
          "name": "stdout",
          "text": [
            "[0]\ttrain-mlogloss:0.65296\tval-mlogloss:0.65102\n",
            "[2]\ttrain-mlogloss:0.58992\tval-mlogloss:0.58456\n"
          ]
        },
        {
          "output_type": "stream",
          "name": "stderr",
          "text": [
            "[I 2023-10-03 00:01:39,238] Trial 44 finished with value: 0.5845622623084601 and parameters: {'eta': 0.07915793482094081, 'max_depth': 5, 'min_child_weight': 0.2626541391193187, 'subsample': 0.2461469505884042, 'colsample_bytree': 0.22405224816169853}. Best is trial 21 with value: 0.5613459488116144.\n"
          ]
        },
        {
          "output_type": "stream",
          "name": "stdout",
          "text": [
            "[0]\ttrain-mlogloss:0.64800\tval-mlogloss:0.64579\n",
            "[2]\ttrain-mlogloss:0.57918\tval-mlogloss:0.57312\n"
          ]
        },
        {
          "output_type": "stream",
          "name": "stderr",
          "text": [
            "[I 2023-10-03 00:02:07,694] Trial 45 finished with value: 0.5731187065115085 and parameters: {'eta': 0.0899001117733599, 'max_depth': 3, 'min_child_weight': 0.3937706123849286, 'subsample': 0.3030950876811487, 'colsample_bytree': 0.35337102043472945}. Best is trial 21 with value: 0.5613459488116144.\n"
          ]
        },
        {
          "output_type": "stream",
          "name": "stdout",
          "text": [
            "[0]\ttrain-mlogloss:0.65878\tval-mlogloss:0.65713\n",
            "[2]\ttrain-mlogloss:0.60381\tval-mlogloss:0.59925\n"
          ]
        },
        {
          "output_type": "stream",
          "name": "stderr",
          "text": [
            "[I 2023-10-03 00:02:33,309] Trial 46 finished with value: 0.5992542439473323 and parameters: {'eta': 0.06631424367050466, 'max_depth': 5, 'min_child_weight': 0.4715898913050739, 'subsample': 0.17856702091139612, 'colsample_bytree': 0.22312121014413716}. Best is trial 21 with value: 0.5613459488116144.\n"
          ]
        },
        {
          "output_type": "stream",
          "name": "stdout",
          "text": [
            "[0]\ttrain-mlogloss:0.64183\tval-mlogloss:0.63934\n",
            "[2]\ttrain-mlogloss:0.56854\tval-mlogloss:0.56192\n"
          ]
        },
        {
          "output_type": "stream",
          "name": "stderr",
          "text": [
            "[I 2023-10-03 00:03:00,007] Trial 47 finished with value: 0.5619171993343598 and parameters: {'eta': 0.09979787513945082, 'max_depth': 6, 'min_child_weight': 0.2766041109509494, 'subsample': 0.1439694302537966, 'colsample_bytree': 0.2978743834853477}. Best is trial 21 with value: 0.5613459488116144.\n"
          ]
        },
        {
          "output_type": "stream",
          "name": "stdout",
          "text": [
            "[0]\ttrain-mlogloss:0.65309\tval-mlogloss:0.65116\n",
            "[2]\ttrain-mlogloss:0.59171\tval-mlogloss:0.58649\n"
          ]
        },
        {
          "output_type": "stream",
          "name": "stderr",
          "text": [
            "[I 2023-10-03 00:03:26,738] Trial 48 finished with value: 0.5864850962672634 and parameters: {'eta': 0.0769891402744486, 'max_depth': 6, 'min_child_weight': 0.25121722715088446, 'subsample': 0.14306202226473413, 'colsample_bytree': 0.27704869807776866}. Best is trial 21 with value: 0.5613459488116144.\n"
          ]
        },
        {
          "output_type": "stream",
          "name": "stdout",
          "text": [
            "[0]\ttrain-mlogloss:0.64733\tval-mlogloss:0.64511\n",
            "[2]\ttrain-mlogloss:0.57822\tval-mlogloss:0.57219\n"
          ]
        },
        {
          "output_type": "stream",
          "name": "stderr",
          "text": [
            "[I 2023-10-03 00:03:52,079] Trial 49 finished with value: 0.5721917999340635 and parameters: {'eta': 0.09028630300677647, 'max_depth': 6, 'min_child_weight': 0.19326962196451355, 'subsample': 0.20125720954407175, 'colsample_bytree': 0.14731179421261578}. Best is trial 21 with value: 0.5613459488116144.\n"
          ]
        },
        {
          "output_type": "stream",
          "name": "stdout",
          "text": [
            "[0]\ttrain-mlogloss:0.66289\tval-mlogloss:0.66144\n",
            "[2]\ttrain-mlogloss:0.61400\tval-mlogloss:0.61001\n"
          ]
        },
        {
          "output_type": "stream",
          "name": "stderr",
          "text": [
            "[I 2023-10-03 00:04:18,541] Trial 50 finished with value: 0.6100130475431533 and parameters: {'eta': 0.05754831988947954, 'max_depth': 5, 'min_child_weight': 0.13947280544146146, 'subsample': 0.1480462737286706, 'colsample_bytree': 0.2836964163195048}. Best is trial 21 with value: 0.5613459488116144.\n"
          ]
        },
        {
          "output_type": "stream",
          "name": "stdout",
          "text": [
            "[0]\ttrain-mlogloss:0.64674\tval-mlogloss:0.64450\n",
            "[2]\ttrain-mlogloss:0.57648\tval-mlogloss:0.57034\n"
          ]
        },
        {
          "output_type": "stream",
          "name": "stderr",
          "text": [
            "[I 2023-10-03 00:04:51,475] Trial 51 finished with value: 0.5703446243013542 and parameters: {'eta': 0.09204675144925599, 'max_depth': 6, 'min_child_weight': 0.27809880035704365, 'subsample': 0.2730803393714814, 'colsample_bytree': 0.33178115589900636}. Best is trial 21 with value: 0.5613459488116144.\n"
          ]
        },
        {
          "output_type": "stream",
          "name": "stdout",
          "text": [
            "[0]\ttrain-mlogloss:0.64417\tval-mlogloss:0.64173\n",
            "[2]\ttrain-mlogloss:0.57156\tval-mlogloss:0.56493\n"
          ]
        },
        {
          "output_type": "stream",
          "name": "stderr",
          "text": [
            "[I 2023-10-03 00:05:15,557] Trial 52 finished with value: 0.5649295862659788 and parameters: {'eta': 0.0978361519444712, 'max_depth': 5, 'min_child_weight': 0.5737153591770501, 'subsample': 0.24166820079944393, 'colsample_bytree': 0.3956158551271574}. Best is trial 21 with value: 0.5613459488116144.\n"
          ]
        },
        {
          "output_type": "stream",
          "name": "stdout",
          "text": [
            "[0]\ttrain-mlogloss:0.64293\tval-mlogloss:0.64049\n",
            "[2]\ttrain-mlogloss:0.56920\tval-mlogloss:0.56263\n"
          ]
        },
        {
          "output_type": "stream",
          "name": "stderr",
          "text": [
            "[I 2023-10-03 00:05:46,397] Trial 53 finished with value: 0.5626261702184818 and parameters: {'eta': 0.09947039695364876, 'max_depth': 6, 'min_child_weight': 0.3202566253648474, 'subsample': 0.20040754365524063, 'colsample_bytree': 0.37278592620236994}. Best is trial 21 with value: 0.5613459488116144.\n"
          ]
        },
        {
          "output_type": "stream",
          "name": "stdout",
          "text": [
            "[0]\ttrain-mlogloss:0.64734\tval-mlogloss:0.64513\n",
            "[2]\ttrain-mlogloss:0.57917\tval-mlogloss:0.57320\n"
          ]
        },
        {
          "output_type": "stream",
          "name": "stderr",
          "text": [
            "[I 2023-10-03 00:06:13,636] Trial 54 finished with value: 0.5731987773488342 and parameters: {'eta': 0.08873446495963665, 'max_depth': 6, 'min_child_weight': 0.22398733509295574, 'subsample': 0.13307675275221506, 'colsample_bytree': 0.3064091409338103}. Best is trial 21 with value: 0.5613459488116144.\n"
          ]
        },
        {
          "output_type": "stream",
          "name": "stdout",
          "text": [
            "[0]\ttrain-mlogloss:0.64248\tval-mlogloss:0.64003\n",
            "[2]\ttrain-mlogloss:0.56844\tval-mlogloss:0.56184\n"
          ]
        },
        {
          "output_type": "stream",
          "name": "stderr",
          "text": [
            "[I 2023-10-03 00:06:40,812] Trial 55 finished with value: 0.5618439000069211 and parameters: {'eta': 0.09991885872110581, 'max_depth': 7, 'min_child_weight': 0.35218904443898885, 'subsample': 0.19429168301004907, 'colsample_bytree': 0.21631649520668392}. Best is trial 21 with value: 0.5613459488116144.\n"
          ]
        },
        {
          "output_type": "stream",
          "name": "stdout",
          "text": [
            "[0]\ttrain-mlogloss:0.65238\tval-mlogloss:0.65043\n",
            "[2]\ttrain-mlogloss:0.59029\tval-mlogloss:0.58502\n"
          ]
        },
        {
          "output_type": "stream",
          "name": "stderr",
          "text": [
            "[I 2023-10-03 00:07:07,017] Trial 56 finished with value: 0.5850161076377605 and parameters: {'eta': 0.07843181726089278, 'max_depth': 7, 'min_child_weight': 0.16776445573152693, 'subsample': 0.15099437167934418, 'colsample_bytree': 0.21438580351830408}. Best is trial 21 with value: 0.5613459488116144.\n"
          ]
        },
        {
          "output_type": "stream",
          "name": "stdout",
          "text": [
            "[0]\ttrain-mlogloss:0.65626\tval-mlogloss:0.65451\n",
            "[2]\ttrain-mlogloss:0.59843\tval-mlogloss:0.59361\n"
          ]
        },
        {
          "output_type": "stream",
          "name": "stderr",
          "text": [
            "[I 2023-10-03 00:07:34,387] Trial 57 finished with value: 0.5936144959101763 and parameters: {'eta': 0.07049571260698725, 'max_depth': 7, 'min_child_weight': 0.37120101532082095, 'subsample': 0.12882026331917798, 'colsample_bytree': 0.161319894121129}. Best is trial 21 with value: 0.5613459488116144.\n"
          ]
        },
        {
          "output_type": "stream",
          "name": "stdout",
          "text": [
            "[0]\ttrain-mlogloss:0.64727\tval-mlogloss:0.64507\n",
            "[2]\ttrain-mlogloss:0.57836\tval-mlogloss:0.57241\n"
          ]
        },
        {
          "output_type": "stream",
          "name": "stderr",
          "text": [
            "[I 2023-10-03 00:07:58,903] Trial 58 finished with value: 0.5724072787769544 and parameters: {'eta': 0.08965036559391149, 'max_depth': 8, 'min_child_weight': 0.239590499767842, 'subsample': 0.19109161939862276, 'colsample_bytree': 0.11806137811318526}. Best is trial 21 with value: 0.5613459488116144.\n"
          ]
        },
        {
          "output_type": "stream",
          "name": "stdout",
          "text": [
            "[0]\ttrain-mlogloss:0.65235\tval-mlogloss:0.65037\n",
            "[2]\ttrain-mlogloss:0.58863\tval-mlogloss:0.58317\n"
          ]
        },
        {
          "output_type": "stream",
          "name": "stderr",
          "text": [
            "[I 2023-10-03 00:08:24,680] Trial 59 finished with value: 0.5831704871756633 and parameters: {'eta': 0.08024566163960793, 'max_depth': 4, 'min_child_weight': 0.200019350427942, 'subsample': 0.22461819765963714, 'colsample_bytree': 0.24473721012367208}. Best is trial 21 with value: 0.5613459488116144.\n"
          ]
        },
        {
          "output_type": "stream",
          "name": "stdout",
          "text": [
            "[0]\ttrain-mlogloss:0.64584\tval-mlogloss:0.64356\n",
            "[2]\ttrain-mlogloss:0.57601\tval-mlogloss:0.56988\n"
          ]
        },
        {
          "output_type": "stream",
          "name": "stderr",
          "text": [
            "[I 2023-10-03 00:08:50,751] Trial 60 finished with value: 0.569879314651992 and parameters: {'eta': 0.09165161095498955, 'max_depth': 7, 'min_child_weight': 0.12610810809257825, 'subsample': 0.1323257989893413, 'colsample_bytree': 0.19700151560187176}. Best is trial 21 with value: 0.5613459488116144.\n"
          ]
        },
        {
          "output_type": "stream",
          "name": "stdout",
          "text": [
            "[0]\ttrain-mlogloss:0.64352\tval-mlogloss:0.64111\n",
            "[2]\ttrain-mlogloss:0.57038\tval-mlogloss:0.56388\n"
          ]
        },
        {
          "output_type": "stream",
          "name": "stderr",
          "text": [
            "[I 2023-10-03 00:09:19,947] Trial 61 finished with value: 0.5638788181435335 and parameters: {'eta': 0.09798223804899964, 'max_depth': 6, 'min_child_weight': 0.3004986847627465, 'subsample': 0.1954439701874458, 'colsample_bytree': 0.2937370156499145}. Best is trial 21 with value: 0.5613459488116144.\n"
          ]
        },
        {
          "output_type": "stream",
          "name": "stdout",
          "text": [
            "[0]\ttrain-mlogloss:0.65016\tval-mlogloss:0.64809\n",
            "[2]\ttrain-mlogloss:0.58497\tval-mlogloss:0.57935\n"
          ]
        },
        {
          "output_type": "stream",
          "name": "stderr",
          "text": [
            "[I 2023-10-03 00:09:49,374] Trial 62 finished with value: 0.5793531010728299 and parameters: {'eta': 0.08358960138095121, 'max_depth': 6, 'min_child_weight': 0.35049948627247135, 'subsample': 0.16650318372905434, 'colsample_bytree': 0.3853246522267464}. Best is trial 21 with value: 0.5613459488116144.\n"
          ]
        },
        {
          "output_type": "stream",
          "name": "stdout",
          "text": [
            "[0]\ttrain-mlogloss:0.64631\tval-mlogloss:0.64406\n",
            "[2]\ttrain-mlogloss:0.57564\tval-mlogloss:0.56949\n"
          ]
        },
        {
          "output_type": "stream",
          "name": "stderr",
          "text": [
            "[I 2023-10-03 00:10:23,233] Trial 63 finished with value: 0.5694928869875102 and parameters: {'eta': 0.09262871315674916, 'max_depth': 7, 'min_child_weight': 0.2614728911765421, 'subsample': 0.21992465492667704, 'colsample_bytree': 0.4188912615579886}. Best is trial 21 with value: 0.5613459488116144.\n"
          ]
        },
        {
          "output_type": "stream",
          "name": "stdout",
          "text": [
            "[0]\ttrain-mlogloss:0.64407\tval-mlogloss:0.64169\n",
            "[2]\ttrain-mlogloss:0.57093\tval-mlogloss:0.56446\n"
          ]
        },
        {
          "output_type": "stream",
          "name": "stderr",
          "text": [
            "[I 2023-10-03 00:10:54,186] Trial 64 finished with value: 0.5644586047976964 and parameters: {'eta': 0.09793511420027064, 'max_depth': 6, 'min_child_weight': 0.181204157918303, 'subsample': 0.30651312490046356, 'colsample_bytree': 0.32394938753100583}. Best is trial 21 with value: 0.5613459488116144.\n"
          ]
        },
        {
          "output_type": "stream",
          "name": "stdout",
          "text": [
            "[0]\ttrain-mlogloss:0.65402\tval-mlogloss:0.65214\n",
            "[2]\ttrain-mlogloss:0.59354\tval-mlogloss:0.58840\n"
          ]
        },
        {
          "output_type": "stream",
          "name": "stderr",
          "text": [
            "[I 2023-10-03 00:11:20,474] Trial 65 finished with value: 0.5883951943729815 and parameters: {'eta': 0.07518499382924154, 'max_depth': 5, 'min_child_weight': 0.32053113539542205, 'subsample': 0.12753990146072558, 'colsample_bytree': 0.2508391819764957}. Best is trial 21 with value: 0.5613459488116144.\n"
          ]
        },
        {
          "output_type": "stream",
          "name": "stdout",
          "text": [
            "[0]\ttrain-mlogloss:0.64123\tval-mlogloss:0.63871\n",
            "[2]\ttrain-mlogloss:0.56742\tval-mlogloss:0.56073\n"
          ]
        },
        {
          "output_type": "stream",
          "name": "stderr",
          "text": [
            "[I 2023-10-03 00:11:47,489] Trial 66 finished with value: 0.5607253195720999 and parameters: {'eta': 0.0999354304938303, 'max_depth': 6, 'min_child_weight': 0.21645208715401726, 'subsample': 0.10004071670955725, 'colsample_bytree': 0.2722965538626651}. Best is trial 66 with value: 0.5607253195720999.\n"
          ]
        },
        {
          "output_type": "stream",
          "name": "stdout",
          "text": [
            "[0]\ttrain-mlogloss:0.64960\tval-mlogloss:0.64751\n",
            "[2]\ttrain-mlogloss:0.58380\tval-mlogloss:0.57813\n"
          ]
        },
        {
          "output_type": "stream",
          "name": "stderr",
          "text": [
            "[I 2023-10-03 00:12:13,244] Trial 67 finished with value: 0.5781349364477877 and parameters: {'eta': 0.08377111933495482, 'max_depth': 7, 'min_child_weight': 0.21062471003786695, 'subsample': 0.10385272518234867, 'colsample_bytree': 0.17710943150312436}. Best is trial 66 with value: 0.5607253195720999.\n"
          ]
        },
        {
          "output_type": "stream",
          "name": "stdout",
          "text": [
            "[0]\ttrain-mlogloss:0.64570\tval-mlogloss:0.64340\n",
            "[2]\ttrain-mlogloss:0.57591\tval-mlogloss:0.56974\n"
          ]
        },
        {
          "output_type": "stream",
          "name": "stderr",
          "text": [
            "[I 2023-10-03 00:12:40,905] Trial 68 finished with value: 0.5697410946721103 and parameters: {'eta': 0.09252725105426686, 'max_depth': 6, 'min_child_weight': 0.16059033312486815, 'subsample': 0.16116125255697408, 'colsample_bytree': 0.282175774914606}. Best is trial 66 with value: 0.5607253195720999.\n"
          ]
        },
        {
          "output_type": "stream",
          "name": "stdout",
          "text": [
            "[0]\ttrain-mlogloss:0.64939\tval-mlogloss:0.64729\n",
            "[2]\ttrain-mlogloss:0.58366\tval-mlogloss:0.57799\n"
          ]
        },
        {
          "output_type": "stream",
          "name": "stderr",
          "text": [
            "[I 2023-10-03 00:13:09,353] Trial 69 finished with value: 0.5779891195760724 and parameters: {'eta': 0.08414016507527122, 'max_depth': 7, 'min_child_weight': 0.2320448710974663, 'subsample': 0.128453734437082, 'colsample_bytree': 0.26386250789949384}. Best is trial 66 with value: 0.5607253195720999.\n"
          ]
        },
        {
          "output_type": "stream",
          "name": "stdout",
          "text": [
            "[0]\ttrain-mlogloss:0.65844\tval-mlogloss:0.65678\n",
            "[2]\ttrain-mlogloss:0.60195\tval-mlogloss:0.59731\n"
          ]
        },
        {
          "output_type": "stream",
          "name": "stderr",
          "text": [
            "[I 2023-10-03 00:13:37,723] Trial 70 finished with value: 0.5973094568221141 and parameters: {'eta': 0.06804550569010497, 'max_depth': 6, 'min_child_weight': 0.18177570094165557, 'subsample': 0.27570675742103695, 'colsample_bytree': 0.2261016823891392}. Best is trial 66 with value: 0.5607253195720999.\n"
          ]
        },
        {
          "output_type": "stream",
          "name": "stdout",
          "text": [
            "[0]\ttrain-mlogloss:0.64331\tval-mlogloss:0.64089\n",
            "[2]\ttrain-mlogloss:0.57063\tval-mlogloss:0.56414\n"
          ]
        },
        {
          "output_type": "stream",
          "name": "stderr",
          "text": [
            "[I 2023-10-03 00:14:06,667] Trial 71 finished with value: 0.5641388328012564 and parameters: {'eta': 0.09785916478091476, 'max_depth': 6, 'min_child_weight': 0.2864135384313901, 'subsample': 0.18408774864316016, 'colsample_bytree': 0.3398722220669388}. Best is trial 66 with value: 0.5607253195720999.\n"
          ]
        },
        {
          "output_type": "stream",
          "name": "stdout",
          "text": [
            "[0]\ttrain-mlogloss:0.64306\tval-mlogloss:0.64062\n",
            "[2]\ttrain-mlogloss:0.56935\tval-mlogloss:0.56275\n"
          ]
        },
        {
          "output_type": "stream",
          "name": "stderr",
          "text": [
            "[I 2023-10-03 00:14:35,666] Trial 72 finished with value: 0.562750846196635 and parameters: {'eta': 0.09931690440115062, 'max_depth': 5, 'min_child_weight': 0.25468932674101835, 'subsample': 0.23290184038304998, 'colsample_bytree': 0.36830391348341596}. Best is trial 66 with value: 0.5607253195720999.\n"
          ]
        },
        {
          "output_type": "stream",
          "name": "stdout",
          "text": [
            "[0]\ttrain-mlogloss:0.64238\tval-mlogloss:0.63994\n",
            "[2]\ttrain-mlogloss:0.56823\tval-mlogloss:0.56166\n"
          ]
        },
        {
          "output_type": "stream",
          "name": "stderr",
          "text": [
            "[I 2023-10-03 00:15:06,000] Trial 73 finished with value: 0.5616555214910177 and parameters: {'eta': 0.0999936344763901, 'max_depth': 8, 'min_child_weight': 0.33821321961757683, 'subsample': 0.19410951238108112, 'colsample_bytree': 0.3064865448216142}. Best is trial 66 with value: 0.5607253195720999.\n"
          ]
        },
        {
          "output_type": "stream",
          "name": "stdout",
          "text": [
            "[0]\ttrain-mlogloss:0.64588\tval-mlogloss:0.64361\n",
            "[2]\ttrain-mlogloss:0.57603\tval-mlogloss:0.56993\n"
          ]
        },
        {
          "output_type": "stream",
          "name": "stderr",
          "text": [
            "[I 2023-10-03 00:15:37,057] Trial 74 finished with value: 0.5699340084926693 and parameters: {'eta': 0.0920396850712497, 'max_depth': 8, 'min_child_weight': 0.21198354778127051, 'subsample': 0.1666751786059199, 'colsample_bytree': 0.2986522157964084}. Best is trial 66 with value: 0.5607253195720999.\n"
          ]
        },
        {
          "output_type": "stream",
          "name": "stdout",
          "text": [
            "[0]\ttrain-mlogloss:0.65388\tval-mlogloss:0.65201\n",
            "[2]\ttrain-mlogloss:0.59355\tval-mlogloss:0.58848\n"
          ]
        },
        {
          "output_type": "stream",
          "name": "stderr",
          "text": [
            "[I 2023-10-03 00:16:07,698] Trial 75 finished with value: 0.5884826253037869 and parameters: {'eta': 0.07433047345285877, 'max_depth': 8, 'min_child_weight': 0.3552938844758858, 'subsample': 0.1016682971496799, 'colsample_bytree': 0.3275396413392226}. Best is trial 66 with value: 0.5607253195720999.\n"
          ]
        },
        {
          "output_type": "stream",
          "name": "stdout",
          "text": [
            "[0]\ttrain-mlogloss:0.64983\tval-mlogloss:0.64775\n",
            "[2]\ttrain-mlogloss:0.58301\tval-mlogloss:0.57731\n"
          ]
        },
        {
          "output_type": "stream",
          "name": "stderr",
          "text": [
            "[I 2023-10-03 00:16:36,832] Trial 76 finished with value: 0.5773081597818378 and parameters: {'eta': 0.08537419687366243, 'max_depth': 7, 'min_child_weight': 0.4275361398385804, 'subsample': 0.21431982256991283, 'colsample_bytree': 0.2599551217101615}. Best is trial 66 with value: 0.5607253195720999.\n"
          ]
        },
        {
          "output_type": "stream",
          "name": "stdout",
          "text": [
            "[0]\ttrain-mlogloss:0.65096\tval-mlogloss:0.64896\n",
            "[2]\ttrain-mlogloss:0.58658\tval-mlogloss:0.58114\n"
          ]
        },
        {
          "output_type": "stream",
          "name": "stderr",
          "text": [
            "[I 2023-10-03 00:17:05,261] Trial 77 finished with value: 0.5811443708873856 and parameters: {'eta': 0.08107310936194968, 'max_depth': 9, 'min_child_weight': 0.1555032812722454, 'subsample': 0.1344804498877321, 'colsample_bytree': 0.20639753526662405}. Best is trial 66 with value: 0.5607253195720999.\n"
          ]
        },
        {
          "output_type": "stream",
          "name": "stdout",
          "text": [
            "[0]\ttrain-mlogloss:0.64676\tval-mlogloss:0.64452\n",
            "[2]\ttrain-mlogloss:0.57674\tval-mlogloss:0.57066\n"
          ]
        },
        {
          "output_type": "stream",
          "name": "stderr",
          "text": [
            "[I 2023-10-03 00:17:34,429] Trial 78 finished with value: 0.5706621837576689 and parameters: {'eta': 0.09165746502064541, 'max_depth': 7, 'min_child_weight': 0.27441347062761356, 'subsample': 0.24224651310189638, 'colsample_bytree': 0.2405071297126922}. Best is trial 66 with value: 0.5607253195720999.\n"
          ]
        },
        {
          "output_type": "stream",
          "name": "stdout",
          "text": [
            "[0]\ttrain-mlogloss:0.65342\tval-mlogloss:0.65153\n",
            "[2]\ttrain-mlogloss:0.59184\tval-mlogloss:0.58668\n"
          ]
        },
        {
          "output_type": "stream",
          "name": "stderr",
          "text": [
            "[I 2023-10-03 00:18:04,757] Trial 79 finished with value: 0.5866789838431106 and parameters: {'eta': 0.0768247520326273, 'max_depth': 8, 'min_child_weight': 0.11315345163714904, 'subsample': 0.17692535635344334, 'colsample_bytree': 0.29903875461690194}. Best is trial 66 with value: 0.5607253195720999.\n"
          ]
        },
        {
          "output_type": "stream",
          "name": "stdout",
          "text": [
            "[0]\ttrain-mlogloss:0.64869\tval-mlogloss:0.64653\n",
            "[2]\ttrain-mlogloss:0.58275\tval-mlogloss:0.57697\n"
          ]
        },
        {
          "output_type": "stream",
          "name": "stderr",
          "text": [
            "[I 2023-10-03 00:18:32,854] Trial 80 finished with value: 0.5769734041400167 and parameters: {'eta': 0.08584469402964347, 'max_depth': 5, 'min_child_weight': 0.40603572621788786, 'subsample': 0.14728088055283167, 'colsample_bytree': 0.27445968699254636}. Best is trial 66 with value: 0.5607253195720999.\n"
          ]
        },
        {
          "output_type": "stream",
          "name": "stdout",
          "text": [
            "[0]\ttrain-mlogloss:0.64295\tval-mlogloss:0.64051\n",
            "[2]\ttrain-mlogloss:0.56939\tval-mlogloss:0.56282\n"
          ]
        },
        {
          "output_type": "stream",
          "name": "stderr",
          "text": [
            "[I 2023-10-03 00:19:03,415] Trial 81 finished with value: 0.562818657576154 and parameters: {'eta': 0.09907241712041709, 'max_depth': 6, 'min_child_weight': 0.32313027306974074, 'subsample': 0.19423492757726843, 'colsample_bytree': 0.3541403120267553}. Best is trial 66 with value: 0.5607253195720999.\n"
          ]
        },
        {
          "output_type": "stream",
          "name": "stdout",
          "text": [
            "[0]\ttrain-mlogloss:0.64606\tval-mlogloss:0.64378\n",
            "[2]\ttrain-mlogloss:0.57528\tval-mlogloss:0.56908\n"
          ]
        },
        {
          "output_type": "stream",
          "name": "stderr",
          "text": [
            "[I 2023-10-03 00:19:49,176] Trial 82 finished with value: 0.569076092622229 and parameters: {'eta': 0.09318690456281495, 'max_depth': 6, 'min_child_weight': 0.3315386631518068, 'subsample': 0.21271414450480236, 'colsample_bytree': 0.4374410492221358}. Best is trial 66 with value: 0.5607253195720999.\n"
          ]
        },
        {
          "output_type": "stream",
          "name": "stdout",
          "text": [
            "[0]\ttrain-mlogloss:0.64873\tval-mlogloss:0.64659\n",
            "[2]\ttrain-mlogloss:0.58058\tval-mlogloss:0.57469\n"
          ]
        },
        {
          "output_type": "stream",
          "name": "stderr",
          "text": [
            "[I 2023-10-03 00:20:21,917] Trial 83 finished with value: 0.5746935538247939 and parameters: {'eta': 0.08795414788109576, 'max_depth': 6, 'min_child_weight': 0.2416737683204073, 'subsample': 0.25931482966969926, 'colsample_bytree': 0.3809791197002442}. Best is trial 66 with value: 0.5607253195720999.\n"
          ]
        },
        {
          "output_type": "stream",
          "name": "stdout",
          "text": [
            "[0]\ttrain-mlogloss:0.64190\tval-mlogloss:0.63942\n",
            "[2]\ttrain-mlogloss:0.56787\tval-mlogloss:0.56124\n"
          ]
        },
        {
          "output_type": "stream",
          "name": "stderr",
          "text": [
            "[I 2023-10-03 00:20:49,772] Trial 84 finished with value: 0.5612406617727076 and parameters: {'eta': 0.09981384949481524, 'max_depth': 7, 'min_child_weight': 0.29137673813777015, 'subsample': 0.11812140241686533, 'colsample_bytree': 0.3138686428508987}. Best is trial 66 with value: 0.5607253195720999.\n"
          ]
        },
        {
          "output_type": "stream",
          "name": "stdout",
          "text": [
            "[0]\ttrain-mlogloss:0.64475\tval-mlogloss:0.64243\n",
            "[2]\ttrain-mlogloss:0.57392\tval-mlogloss:0.56769\n"
          ]
        },
        {
          "output_type": "stream",
          "name": "stderr",
          "text": [
            "[I 2023-10-03 00:21:19,314] Trial 85 finished with value: 0.5676938016489271 and parameters: {'eta': 0.0933703488619636, 'max_depth': 8, 'min_child_weight': 0.28698823457235506, 'subsample': 0.12622655549381304, 'colsample_bytree': 0.22747108562138765}. Best is trial 66 with value: 0.5607253195720999.\n"
          ]
        },
        {
          "output_type": "stream",
          "name": "stdout",
          "text": [
            "[0]\ttrain-mlogloss:0.65214\tval-mlogloss:0.65018\n",
            "[2]\ttrain-mlogloss:0.58956\tval-mlogloss:0.58424\n"
          ]
        },
        {
          "output_type": "stream",
          "name": "stderr",
          "text": [
            "[I 2023-10-03 00:21:48,452] Trial 86 finished with value: 0.5842415929037028 and parameters: {'eta': 0.07914146567563381, 'max_depth': 7, 'min_child_weight': 0.20476278652924487, 'subsample': 0.15701666070762477, 'colsample_bytree': 0.31238911621721516}. Best is trial 66 with value: 0.5607253195720999.\n"
          ]
        },
        {
          "output_type": "stream",
          "name": "stdout",
          "text": [
            "[0]\ttrain-mlogloss:0.64467\tval-mlogloss:0.64233\n",
            "[2]\ttrain-mlogloss:0.57364\tval-mlogloss:0.56737\n"
          ]
        },
        {
          "output_type": "stream",
          "name": "stderr",
          "text": [
            "[I 2023-10-03 00:22:15,617] Trial 87 finished with value: 0.5673678258105597 and parameters: {'eta': 0.09383631456486523, 'max_depth': 7, 'min_child_weight': 0.18946987517331995, 'subsample': 0.12054335427347777, 'colsample_bytree': 0.2735156524013058}. Best is trial 66 with value: 0.5607253195720999.\n"
          ]
        },
        {
          "output_type": "stream",
          "name": "stdout",
          "text": [
            "[0]\ttrain-mlogloss:0.65552\tval-mlogloss:0.65373\n",
            "[2]\ttrain-mlogloss:0.59622\tval-mlogloss:0.59129\n"
          ]
        },
        {
          "output_type": "stream",
          "name": "stderr",
          "text": [
            "[I 2023-10-03 00:22:42,088] Trial 88 finished with value: 0.5912850177563003 and parameters: {'eta': 0.07296021353097587, 'max_depth': 7, 'min_child_weight': 0.24808207282385356, 'subsample': 0.18248139691529866, 'colsample_bytree': 0.1792254382374579}. Best is trial 66 with value: 0.5607253195720999.\n"
          ]
        },
        {
          "output_type": "stream",
          "name": "stdout",
          "text": [
            "[0]\ttrain-mlogloss:0.64821\tval-mlogloss:0.64603\n",
            "[2]\ttrain-mlogloss:0.58112\tval-mlogloss:0.57524\n"
          ]
        },
        {
          "output_type": "stream",
          "name": "stderr",
          "text": [
            "[I 2023-10-03 00:23:06,217] Trial 89 finished with value: 0.5752447895104252 and parameters: {'eta': 0.08679609719274778, 'max_depth': 5, 'min_child_weight': 0.2174707490132874, 'subsample': 0.10323799223635326, 'colsample_bytree': 0.21124024685265472}. Best is trial 66 with value: 0.5607253195720999.\n"
          ]
        },
        {
          "output_type": "stream",
          "name": "stdout",
          "text": [
            "[0]\ttrain-mlogloss:0.64179\tval-mlogloss:0.63931\n",
            "[2]\ttrain-mlogloss:0.56856\tval-mlogloss:0.56197\n"
          ]
        },
        {
          "output_type": "stream",
          "name": "stderr",
          "text": [
            "[I 2023-10-03 00:23:36,620] Trial 90 finished with value: 0.561972396132188 and parameters: {'eta': 0.09972426679627855, 'max_depth': 7, 'min_child_weight': 0.17580282828569083, 'subsample': 0.14989846007334953, 'colsample_bytree': 0.34696062749806705}. Best is trial 66 with value: 0.5607253195720999.\n"
          ]
        },
        {
          "output_type": "stream",
          "name": "stdout",
          "text": [
            "[0]\ttrain-mlogloss:0.64206\tval-mlogloss:0.63959\n",
            "[2]\ttrain-mlogloss:0.56880\tval-mlogloss:0.56224\n"
          ]
        },
        {
          "output_type": "stream",
          "name": "stderr",
          "text": [
            "[I 2023-10-03 00:24:07,100] Trial 91 finished with value: 0.5622350984487737 and parameters: {'eta': 0.09966509854945958, 'max_depth': 7, 'min_child_weight': 0.17222992526258743, 'subsample': 0.15599440821474433, 'colsample_bytree': 0.3438019697613541}. Best is trial 66 with value: 0.5607253195720999.\n"
          ]
        },
        {
          "output_type": "stream",
          "name": "stdout",
          "text": [
            "[0]\ttrain-mlogloss:0.64450\tval-mlogloss:0.64215\n",
            "[2]\ttrain-mlogloss:0.57391\tval-mlogloss:0.56765\n"
          ]
        },
        {
          "output_type": "stream",
          "name": "stderr",
          "text": [
            "[I 2023-10-03 00:24:36,803] Trial 92 finished with value: 0.5676522173932592 and parameters: {'eta': 0.09441905545154952, 'max_depth': 7, 'min_child_weight': 0.1408923254003803, 'subsample': 0.1518747268069795, 'colsample_bytree': 0.34040463201326265}. Best is trial 66 with value: 0.5607253195720999.\n"
          ]
        },
        {
          "output_type": "stream",
          "name": "stdout",
          "text": [
            "[0]\ttrain-mlogloss:0.65079\tval-mlogloss:0.64876\n",
            "[2]\ttrain-mlogloss:0.58649\tval-mlogloss:0.58099\n"
          ]
        },
        {
          "output_type": "stream",
          "name": "stderr",
          "text": [
            "[I 2023-10-03 00:25:07,332] Trial 93 finished with value: 0.5809855822970879 and parameters: {'eta': 0.08139606240658656, 'max_depth': 7, 'min_child_weight': 0.16154054366249962, 'subsample': 0.11552406715824587, 'colsample_bytree': 0.4034383180074074}. Best is trial 66 with value: 0.5607253195720999.\n"
          ]
        },
        {
          "output_type": "stream",
          "name": "stdout",
          "text": [
            "[0]\ttrain-mlogloss:0.64182\tval-mlogloss:0.63932\n",
            "[2]\ttrain-mlogloss:0.56881\tval-mlogloss:0.56221\n"
          ]
        },
        {
          "output_type": "stream",
          "name": "stderr",
          "text": [
            "[I 2023-10-03 00:25:35,408] Trial 94 finished with value: 0.5622053659924565 and parameters: {'eta': 0.09968468737203308, 'max_depth': 6, 'min_child_weight': 0.17478263793831947, 'subsample': 0.14824039804443379, 'colsample_bytree': 0.3196740454364463}. Best is trial 66 with value: 0.5607253195720999.\n"
          ]
        },
        {
          "output_type": "stream",
          "name": "stdout",
          "text": [
            "[0]\ttrain-mlogloss:0.64768\tval-mlogloss:0.64550\n",
            "[2]\ttrain-mlogloss:0.58033\tval-mlogloss:0.57446\n"
          ]
        },
        {
          "output_type": "stream",
          "name": "stderr",
          "text": [
            "[I 2023-10-03 00:26:04,765] Trial 95 finished with value: 0.5744609671723115 and parameters: {'eta': 0.08766319535272496, 'max_depth': 7, 'min_child_weight': 0.17454354559012253, 'subsample': 0.14457164879532236, 'colsample_bytree': 0.3243596164307695}. Best is trial 66 with value: 0.5607253195720999.\n"
          ]
        },
        {
          "output_type": "stream",
          "name": "stdout",
          "text": [
            "[0]\ttrain-mlogloss:0.65065\tval-mlogloss:0.64862\n",
            "[2]\ttrain-mlogloss:0.58594\tval-mlogloss:0.58043\n"
          ]
        },
        {
          "output_type": "stream",
          "name": "stderr",
          "text": [
            "[I 2023-10-03 00:26:35,077] Trial 96 finished with value: 0.580431235190082 and parameters: {'eta': 0.08242332792924437, 'max_depth': 8, 'min_child_weight': 0.14831589008855095, 'subsample': 0.17262661203369004, 'colsample_bytree': 0.303050008199529}. Best is trial 66 with value: 0.5607253195720999.\n"
          ]
        },
        {
          "output_type": "stream",
          "name": "stdout",
          "text": [
            "[0]\ttrain-mlogloss:0.64533\tval-mlogloss:0.64301\n",
            "[2]\ttrain-mlogloss:0.57381\tval-mlogloss:0.56751\n"
          ]
        },
        {
          "output_type": "stream",
          "name": "stderr",
          "text": [
            "[I 2023-10-03 00:27:05,405] Trial 97 finished with value: 0.5675149583050604 and parameters: {'eta': 0.09476096055230708, 'max_depth': 6, 'min_child_weight': 0.1959321130423823, 'subsample': 0.20418252473161422, 'colsample_bytree': 0.2854897618409452}. Best is trial 66 with value: 0.5607253195720999.\n"
          ]
        },
        {
          "output_type": "stream",
          "name": "stdout",
          "text": [
            "[0]\ttrain-mlogloss:0.64689\tval-mlogloss:0.64466\n",
            "[2]\ttrain-mlogloss:0.57854\tval-mlogloss:0.57256\n"
          ]
        },
        {
          "output_type": "stream",
          "name": "stderr",
          "text": [
            "[I 2023-10-03 00:27:34,959] Trial 98 finished with value: 0.5725621604644486 and parameters: {'eta': 0.08934655662327305, 'max_depth': 7, 'min_child_weight': 0.1798373575729972, 'subsample': 0.1405102544484241, 'colsample_bytree': 0.34481322007157017}. Best is trial 66 with value: 0.5607253195720999.\n"
          ]
        },
        {
          "output_type": "stream",
          "name": "stdout",
          "text": [
            "[0]\ttrain-mlogloss:0.64411\tval-mlogloss:0.64175\n",
            "[2]\ttrain-mlogloss:0.57257\tval-mlogloss:0.56626\n"
          ]
        },
        {
          "output_type": "stream",
          "name": "stderr",
          "text": [
            "[I 2023-10-03 00:28:04,418] Trial 99 finished with value: 0.5662636408794064 and parameters: {'eta': 0.09489365300451283, 'max_depth': 8, 'min_child_weight': 0.13431947416905748, 'subsample': 0.11289483418547577, 'colsample_bytree': 0.3601134436066975}. Best is trial 66 with value: 0.5607253195720999.\n"
          ]
        },
        {
          "output_type": "stream",
          "name": "stdout",
          "text": [
            "Best params: {'eta': 0.0999354304938303, 'max_depth': 6, 'min_child_weight': 0.21645208715401726, 'subsample': 0.10004071670955725, 'colsample_bytree': 0.2722965538626651}\n"
          ]
        }
      ],
      "source": [
        "def objective(trial):\n",
        "    param = {}\n",
        "    param['objective'] = 'multi:softprob'\n",
        "    param['eta'] = trial.suggest_float('eta', 0.01, 0.1, log=True)\n",
        "    param['max_depth'] = trial.suggest_int('max_depth', 3, 10)\n",
        "    param['min_child_weight'] = trial.suggest_float('min_child_weight', 0.1, 10.0, log=True)\n",
        "    param['subsample'] = trial.suggest_float('subsample', 0.1, 1.0)\n",
        "    param['colsample_bytree'] = trial.suggest_float('colsample_bytree', 0.1, 1.0)\n",
        "    param['seed'] = 0\n",
        "    param['num_class'] = 2\n",
        "    param['eval_metric'] = 'mlogloss'\n",
        "\n",
        "    X_train, X_val, y_train, y_val = train_test_split(train, y, test_size=0.1, random_state=42)\n",
        "    xgtrain = xgb.DMatrix(X_train, label=y_train)\n",
        "    xgval = xgb.DMatrix(X_val, label=y_val)\n",
        "\n",
        "    evals_result = {}\n",
        "\n",
        "    model = xgb.train(param, xgtrain, 3, [(xgtrain, 'train'), (xgval, 'val')],\n",
        "                      early_stopping_rounds=50, verbose_eval=20, evals_result=evals_result)\n",
        "\n",
        "    return evals_result['val']['mlogloss'][-1]\n",
        "\n",
        "study = optuna.create_study(direction='minimize')\n",
        "study.optimize(objective, n_trials=100)\n",
        "\n",
        "# Check if any trials have been completed\n",
        "if len(study.trials) == 0:\n",
        "    print(\"No trials have been completed.\")\n",
        "    exit()\n",
        "\n",
        "# Get the best trial and its parameters\n",
        "best_trial = study.best_trial\n",
        "best_params = best_trial.params\n",
        "print(\"Best params:\", best_params)"
      ]
    },
    {
      "cell_type": "code",
      "source": [
        "X_train, X_val, y_train, y_val = train_test_split(train, y, test_size=0.1, random_state=42)"
      ],
      "metadata": {
        "id": "Cgi4hU9879eK"
      },
      "execution_count": null,
      "outputs": []
    },
    {
      "cell_type": "code",
      "source": [
        "xgtrain = xgb.DMatrix(X_train, label=y_train)\n",
        "xgval = xgb.DMatrix(X_val, label=y_val)"
      ],
      "metadata": {
        "id": "do2WCPfC8Bwz"
      },
      "execution_count": null,
      "outputs": []
    },
    {
      "cell_type": "code",
      "source": [
        "evals_result = {}\n",
        "\n",
        "model = xgb.train(best_params, xgtrain,10, [(xgtrain, 'train'), (xgval, 'val')],\n",
        "                  early_stopping_rounds=50, verbose_eval=20, evals_result=evals_result)\n"
      ],
      "metadata": {
        "colab": {
          "base_uri": "https://localhost:8080/"
        },
        "id": "8cl80V4LnJah",
        "outputId": "b921e241-8441-4ef9-a866-e6d58a15a00c"
      },
      "execution_count": null,
      "outputs": [
        {
          "output_type": "stream",
          "name": "stderr",
          "text": [
            "/usr/local/lib/python3.10/dist-packages/xgboost/core.py:617: FutureWarning: Pass `evals` as keyword args.\n",
            "  warnings.warn(msg, FutureWarning)\n"
          ]
        },
        {
          "output_type": "stream",
          "name": "stdout",
          "text": [
            "[0]\ttrain-rmse:0.47248\tval-rmse:0.47110\n",
            "[9]\ttrain-rmse:0.36550\tval-rmse:0.35472\n"
          ]
        }
      ]
    },
    {
      "cell_type": "code",
      "source": [
        "test = xgb.DMatrix(test)"
      ],
      "metadata": {
        "id": "mZ1oAgDo8ZSZ"
      },
      "execution_count": null,
      "outputs": []
    },
    {
      "cell_type": "code",
      "source": [
        "test = model.predict(test)"
      ],
      "metadata": {
        "id": "8kUW6m2tnbsc"
      },
      "execution_count": null,
      "outputs": []
    },
    {
      "cell_type": "code",
      "source": [
        "test"
      ],
      "metadata": {
        "colab": {
          "base_uri": "https://localhost:8080/"
        },
        "id": "ZsjxjyV88pJT",
        "outputId": "88cb7cb4-dc36-4d40-ecf4-eaa270316b85"
      },
      "execution_count": null,
      "outputs": [
        {
          "output_type": "execute_result",
          "data": {
            "text/plain": [
              "array([0.7396328, 0.7396328, 0.7396328, ..., 0.7396328, 0.7396328,\n",
              "       0.7396328], dtype=float32)"
            ]
          },
          "metadata": {},
          "execution_count": 23
        }
      ]
    },
    {
      "cell_type": "code",
      "execution_count": null,
      "metadata": {
        "id": "W2huzAaQaeud"
      },
      "outputs": [],
      "source": [
        "submission = pd.DataFrame({'ID': testsub[\"ID\"], 'Target': test})\n",
        "submission.to_csv('double.csv', index=False)"
      ]
    }
  ],
  "metadata": {
    "colab": {
      "provenance": []
    },
    "kernelspec": {
      "display_name": "Python 3",
      "name": "python3"
    },
    "language_info": {
      "name": "python"
    }
  },
  "nbformat": 4,
  "nbformat_minor": 0
}